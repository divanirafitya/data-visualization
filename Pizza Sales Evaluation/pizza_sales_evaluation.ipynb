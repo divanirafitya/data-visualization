{
 "cells": [
  {
   "cell_type": "markdown",
   "metadata": {},
   "source": [
    "---\n",
    "\n",
    "Name: Divani Rafitya\n",
    "- Kaggle [Link](https://www.kaggle.com/datasets/nextmillionaire/pizza-sales-dataset)\n",
    "- Tableau [Link](https://public.tableau.com/app/profile/divani.rafitya/viz/new_final_dashboard/MainDashboard?publish=yes)\n",
    "\n",
    "---"
   ]
  },
  {
   "cell_type": "markdown",
   "metadata": {},
   "source": [
    "## Business Understanding"
   ]
  },
  {
   "cell_type": "markdown",
   "metadata": {},
   "source": [
    "Based on the Pizza Sales Dataset for a pizza restaurant taken from Kaggle, the data shows that the factors that affecting pizza sales are `pizza size, pizza category, and toppings on the pizza`. Therefore, we need to understand customer preferences in ordering pizza and create marketing strategies that suit these preferences if necessary, such as discounts or bundling.\n",
    "\n",
    "Based on this background, my objective as a consultant is to analyze data from pizza sales in the previous year, which will be useful for designing strategies and making business decisions in the future."
   ]
  },
  {
   "cell_type": "markdown",
   "metadata": {},
   "source": [
    "To make it easier to carry out the analysis, the `5W1H` approach is used as a method to `understand the root cause of the problem` from various perspectives.\n",
    "1. Overall, how was Pizza sales performance in 2015?\n",
    "2. How many Pizzas are sold in each category?\n",
    "3. Which Pizza category sold the most (best seller) in 2015?\n",
    "4. What is the most sold (best seller) pizza from each pizza category?\n",
    "5. Is there a correlation in the columns *pizza_id*, *order_id*, *quantity*, *unit_price*, and *total_price*?\n",
    "6. Are the number of pizza sales during the day (lunchtime) different from sales at night (dinnertime)?"
   ]
  },
  {
   "cell_type": "markdown",
   "metadata": {},
   "source": [
    "After elaborating the root cause of the problem, SMART goals must be define to undertand the objective:\n",
    "- Specific = analyze pizza sales performance to increase sales revenue\n",
    "- Measurable = increase sales by 10%\n",
    "- Achievable = by understanding customer preferences for better marketing planning strategies\n",
    "- Relevant = increasing sales revenue can lead to higher profit\n",
    "- Time-bound = goals can be achieved within the next six months\n",
    "\n",
    "Based on the description of SMART goals above, the objective to be achieved are:\n",
    "Increase sales revenue by 10% within the next six months. This can be achieved by understanding customer preferences for better marketing planning strategies, which will lead to higher profit."
   ]
  },
  {
   "cell_type": "markdown",
   "metadata": {},
   "source": [
    "## Data Preparation"
   ]
  },
  {
   "cell_type": "code",
   "execution_count": 1,
   "metadata": {},
   "outputs": [],
   "source": [
    "# setup by import library on python \n",
    "import pandas as pd\n",
    "import matplotlib.pyplot as plt #for data visualization\n",
    "import seaborn as sns #for data visualization\n",
    "from scipy import stats #for statistic calculation\n",
    "import warnings\n",
    "warnings.filterwarnings('ignore')"
   ]
  },
  {
   "cell_type": "code",
   "execution_count": 2,
   "metadata": {},
   "outputs": [
    {
     "ename": "FileNotFoundError",
     "evalue": "[Errno 2] No such file or directory: 'pizza_sales.csv'",
     "output_type": "error",
     "traceback": [
      "\u001b[0;31m---------------------------------------------------------------------------\u001b[0m",
      "\u001b[0;31mFileNotFoundError\u001b[0m                         Traceback (most recent call last)",
      "Cell \u001b[0;32mIn[2], line 2\u001b[0m\n\u001b[1;32m      1\u001b[0m \u001b[38;5;66;03m# loading dataset from .csv file to pandas dataframe\u001b[39;00m\n\u001b[0;32m----> 2\u001b[0m df_ori \u001b[38;5;241m=\u001b[39m pd\u001b[38;5;241m.\u001b[39mread_csv(\u001b[38;5;124m'\u001b[39m\u001b[38;5;124mpizza_sales.csv\u001b[39m\u001b[38;5;124m'\u001b[39m)\n",
      "File \u001b[0;32m/usr/local/anaconda3/lib/python3.11/site-packages/pandas/io/parsers/readers.py:948\u001b[0m, in \u001b[0;36mread_csv\u001b[0;34m(filepath_or_buffer, sep, delimiter, header, names, index_col, usecols, dtype, engine, converters, true_values, false_values, skipinitialspace, skiprows, skipfooter, nrows, na_values, keep_default_na, na_filter, verbose, skip_blank_lines, parse_dates, infer_datetime_format, keep_date_col, date_parser, date_format, dayfirst, cache_dates, iterator, chunksize, compression, thousands, decimal, lineterminator, quotechar, quoting, doublequote, escapechar, comment, encoding, encoding_errors, dialect, on_bad_lines, delim_whitespace, low_memory, memory_map, float_precision, storage_options, dtype_backend)\u001b[0m\n\u001b[1;32m    935\u001b[0m kwds_defaults \u001b[38;5;241m=\u001b[39m _refine_defaults_read(\n\u001b[1;32m    936\u001b[0m     dialect,\n\u001b[1;32m    937\u001b[0m     delimiter,\n\u001b[0;32m   (...)\u001b[0m\n\u001b[1;32m    944\u001b[0m     dtype_backend\u001b[38;5;241m=\u001b[39mdtype_backend,\n\u001b[1;32m    945\u001b[0m )\n\u001b[1;32m    946\u001b[0m kwds\u001b[38;5;241m.\u001b[39mupdate(kwds_defaults)\n\u001b[0;32m--> 948\u001b[0m \u001b[38;5;28;01mreturn\u001b[39;00m _read(filepath_or_buffer, kwds)\n",
      "File \u001b[0;32m/usr/local/anaconda3/lib/python3.11/site-packages/pandas/io/parsers/readers.py:611\u001b[0m, in \u001b[0;36m_read\u001b[0;34m(filepath_or_buffer, kwds)\u001b[0m\n\u001b[1;32m    608\u001b[0m _validate_names(kwds\u001b[38;5;241m.\u001b[39mget(\u001b[38;5;124m\"\u001b[39m\u001b[38;5;124mnames\u001b[39m\u001b[38;5;124m\"\u001b[39m, \u001b[38;5;28;01mNone\u001b[39;00m))\n\u001b[1;32m    610\u001b[0m \u001b[38;5;66;03m# Create the parser.\u001b[39;00m\n\u001b[0;32m--> 611\u001b[0m parser \u001b[38;5;241m=\u001b[39m TextFileReader(filepath_or_buffer, \u001b[38;5;241m*\u001b[39m\u001b[38;5;241m*\u001b[39mkwds)\n\u001b[1;32m    613\u001b[0m \u001b[38;5;28;01mif\u001b[39;00m chunksize \u001b[38;5;129;01mor\u001b[39;00m iterator:\n\u001b[1;32m    614\u001b[0m     \u001b[38;5;28;01mreturn\u001b[39;00m parser\n",
      "File \u001b[0;32m/usr/local/anaconda3/lib/python3.11/site-packages/pandas/io/parsers/readers.py:1448\u001b[0m, in \u001b[0;36mTextFileReader.__init__\u001b[0;34m(self, f, engine, **kwds)\u001b[0m\n\u001b[1;32m   1445\u001b[0m     \u001b[38;5;28mself\u001b[39m\u001b[38;5;241m.\u001b[39moptions[\u001b[38;5;124m\"\u001b[39m\u001b[38;5;124mhas_index_names\u001b[39m\u001b[38;5;124m\"\u001b[39m] \u001b[38;5;241m=\u001b[39m kwds[\u001b[38;5;124m\"\u001b[39m\u001b[38;5;124mhas_index_names\u001b[39m\u001b[38;5;124m\"\u001b[39m]\n\u001b[1;32m   1447\u001b[0m \u001b[38;5;28mself\u001b[39m\u001b[38;5;241m.\u001b[39mhandles: IOHandles \u001b[38;5;241m|\u001b[39m \u001b[38;5;28;01mNone\u001b[39;00m \u001b[38;5;241m=\u001b[39m \u001b[38;5;28;01mNone\u001b[39;00m\n\u001b[0;32m-> 1448\u001b[0m \u001b[38;5;28mself\u001b[39m\u001b[38;5;241m.\u001b[39m_engine \u001b[38;5;241m=\u001b[39m \u001b[38;5;28mself\u001b[39m\u001b[38;5;241m.\u001b[39m_make_engine(f, \u001b[38;5;28mself\u001b[39m\u001b[38;5;241m.\u001b[39mengine)\n",
      "File \u001b[0;32m/usr/local/anaconda3/lib/python3.11/site-packages/pandas/io/parsers/readers.py:1705\u001b[0m, in \u001b[0;36mTextFileReader._make_engine\u001b[0;34m(self, f, engine)\u001b[0m\n\u001b[1;32m   1703\u001b[0m     \u001b[38;5;28;01mif\u001b[39;00m \u001b[38;5;124m\"\u001b[39m\u001b[38;5;124mb\u001b[39m\u001b[38;5;124m\"\u001b[39m \u001b[38;5;129;01mnot\u001b[39;00m \u001b[38;5;129;01min\u001b[39;00m mode:\n\u001b[1;32m   1704\u001b[0m         mode \u001b[38;5;241m+\u001b[39m\u001b[38;5;241m=\u001b[39m \u001b[38;5;124m\"\u001b[39m\u001b[38;5;124mb\u001b[39m\u001b[38;5;124m\"\u001b[39m\n\u001b[0;32m-> 1705\u001b[0m \u001b[38;5;28mself\u001b[39m\u001b[38;5;241m.\u001b[39mhandles \u001b[38;5;241m=\u001b[39m get_handle(\n\u001b[1;32m   1706\u001b[0m     f,\n\u001b[1;32m   1707\u001b[0m     mode,\n\u001b[1;32m   1708\u001b[0m     encoding\u001b[38;5;241m=\u001b[39m\u001b[38;5;28mself\u001b[39m\u001b[38;5;241m.\u001b[39moptions\u001b[38;5;241m.\u001b[39mget(\u001b[38;5;124m\"\u001b[39m\u001b[38;5;124mencoding\u001b[39m\u001b[38;5;124m\"\u001b[39m, \u001b[38;5;28;01mNone\u001b[39;00m),\n\u001b[1;32m   1709\u001b[0m     compression\u001b[38;5;241m=\u001b[39m\u001b[38;5;28mself\u001b[39m\u001b[38;5;241m.\u001b[39moptions\u001b[38;5;241m.\u001b[39mget(\u001b[38;5;124m\"\u001b[39m\u001b[38;5;124mcompression\u001b[39m\u001b[38;5;124m\"\u001b[39m, \u001b[38;5;28;01mNone\u001b[39;00m),\n\u001b[1;32m   1710\u001b[0m     memory_map\u001b[38;5;241m=\u001b[39m\u001b[38;5;28mself\u001b[39m\u001b[38;5;241m.\u001b[39moptions\u001b[38;5;241m.\u001b[39mget(\u001b[38;5;124m\"\u001b[39m\u001b[38;5;124mmemory_map\u001b[39m\u001b[38;5;124m\"\u001b[39m, \u001b[38;5;28;01mFalse\u001b[39;00m),\n\u001b[1;32m   1711\u001b[0m     is_text\u001b[38;5;241m=\u001b[39mis_text,\n\u001b[1;32m   1712\u001b[0m     errors\u001b[38;5;241m=\u001b[39m\u001b[38;5;28mself\u001b[39m\u001b[38;5;241m.\u001b[39moptions\u001b[38;5;241m.\u001b[39mget(\u001b[38;5;124m\"\u001b[39m\u001b[38;5;124mencoding_errors\u001b[39m\u001b[38;5;124m\"\u001b[39m, \u001b[38;5;124m\"\u001b[39m\u001b[38;5;124mstrict\u001b[39m\u001b[38;5;124m\"\u001b[39m),\n\u001b[1;32m   1713\u001b[0m     storage_options\u001b[38;5;241m=\u001b[39m\u001b[38;5;28mself\u001b[39m\u001b[38;5;241m.\u001b[39moptions\u001b[38;5;241m.\u001b[39mget(\u001b[38;5;124m\"\u001b[39m\u001b[38;5;124mstorage_options\u001b[39m\u001b[38;5;124m\"\u001b[39m, \u001b[38;5;28;01mNone\u001b[39;00m),\n\u001b[1;32m   1714\u001b[0m )\n\u001b[1;32m   1715\u001b[0m \u001b[38;5;28;01massert\u001b[39;00m \u001b[38;5;28mself\u001b[39m\u001b[38;5;241m.\u001b[39mhandles \u001b[38;5;129;01mis\u001b[39;00m \u001b[38;5;129;01mnot\u001b[39;00m \u001b[38;5;28;01mNone\u001b[39;00m\n\u001b[1;32m   1716\u001b[0m f \u001b[38;5;241m=\u001b[39m \u001b[38;5;28mself\u001b[39m\u001b[38;5;241m.\u001b[39mhandles\u001b[38;5;241m.\u001b[39mhandle\n",
      "File \u001b[0;32m/usr/local/anaconda3/lib/python3.11/site-packages/pandas/io/common.py:863\u001b[0m, in \u001b[0;36mget_handle\u001b[0;34m(path_or_buf, mode, encoding, compression, memory_map, is_text, errors, storage_options)\u001b[0m\n\u001b[1;32m    858\u001b[0m \u001b[38;5;28;01melif\u001b[39;00m \u001b[38;5;28misinstance\u001b[39m(handle, \u001b[38;5;28mstr\u001b[39m):\n\u001b[1;32m    859\u001b[0m     \u001b[38;5;66;03m# Check whether the filename is to be opened in binary mode.\u001b[39;00m\n\u001b[1;32m    860\u001b[0m     \u001b[38;5;66;03m# Binary mode does not support 'encoding' and 'newline'.\u001b[39;00m\n\u001b[1;32m    861\u001b[0m     \u001b[38;5;28;01mif\u001b[39;00m ioargs\u001b[38;5;241m.\u001b[39mencoding \u001b[38;5;129;01mand\u001b[39;00m \u001b[38;5;124m\"\u001b[39m\u001b[38;5;124mb\u001b[39m\u001b[38;5;124m\"\u001b[39m \u001b[38;5;129;01mnot\u001b[39;00m \u001b[38;5;129;01min\u001b[39;00m ioargs\u001b[38;5;241m.\u001b[39mmode:\n\u001b[1;32m    862\u001b[0m         \u001b[38;5;66;03m# Encoding\u001b[39;00m\n\u001b[0;32m--> 863\u001b[0m         handle \u001b[38;5;241m=\u001b[39m \u001b[38;5;28mopen\u001b[39m(\n\u001b[1;32m    864\u001b[0m             handle,\n\u001b[1;32m    865\u001b[0m             ioargs\u001b[38;5;241m.\u001b[39mmode,\n\u001b[1;32m    866\u001b[0m             encoding\u001b[38;5;241m=\u001b[39mioargs\u001b[38;5;241m.\u001b[39mencoding,\n\u001b[1;32m    867\u001b[0m             errors\u001b[38;5;241m=\u001b[39merrors,\n\u001b[1;32m    868\u001b[0m             newline\u001b[38;5;241m=\u001b[39m\u001b[38;5;124m\"\u001b[39m\u001b[38;5;124m\"\u001b[39m,\n\u001b[1;32m    869\u001b[0m         )\n\u001b[1;32m    870\u001b[0m     \u001b[38;5;28;01melse\u001b[39;00m:\n\u001b[1;32m    871\u001b[0m         \u001b[38;5;66;03m# Binary mode\u001b[39;00m\n\u001b[1;32m    872\u001b[0m         handle \u001b[38;5;241m=\u001b[39m \u001b[38;5;28mopen\u001b[39m(handle, ioargs\u001b[38;5;241m.\u001b[39mmode)\n",
      "\u001b[0;31mFileNotFoundError\u001b[0m: [Errno 2] No such file or directory: 'pizza_sales.csv'"
     ]
    }
   ],
   "source": [
    "# loading dataset from .csv file to pandas dataframe\n",
    "df_ori = pd.read_csv('pizza_sales.csv')"
   ]
  },
  {
   "cell_type": "code",
   "execution_count": null,
   "metadata": {},
   "outputs": [],
   "source": [
    "# duplicate original dataset\n",
    "df = df_ori.copy()"
   ]
  },
  {
   "cell_type": "markdown",
   "metadata": {},
   "source": [
    "Query Data:\n",
    "```sql\n",
    "SELECT *\n",
    "FROM `pizza_sales.csv`\n",
    "```"
   ]
  },
  {
   "cell_type": "markdown",
   "metadata": {},
   "source": [
    "### Data Exploration"
   ]
  },
  {
   "cell_type": "code",
   "execution_count": null,
   "metadata": {},
   "outputs": [
    {
     "data": {
      "text/html": [
       "<div>\n",
       "<style scoped>\n",
       "    .dataframe tbody tr th:only-of-type {\n",
       "        vertical-align: middle;\n",
       "    }\n",
       "\n",
       "    .dataframe tbody tr th {\n",
       "        vertical-align: top;\n",
       "    }\n",
       "\n",
       "    .dataframe thead th {\n",
       "        text-align: right;\n",
       "    }\n",
       "</style>\n",
       "<table border=\"1\" class=\"dataframe\">\n",
       "  <thead>\n",
       "    <tr style=\"text-align: right;\">\n",
       "      <th></th>\n",
       "      <th>pizza_id</th>\n",
       "      <th>order_id</th>\n",
       "      <th>pizza_name_id</th>\n",
       "      <th>quantity</th>\n",
       "      <th>order_date</th>\n",
       "      <th>order_time</th>\n",
       "      <th>unit_price</th>\n",
       "      <th>total_price</th>\n",
       "      <th>pizza_size</th>\n",
       "      <th>pizza_category</th>\n",
       "      <th>pizza_ingredients</th>\n",
       "      <th>pizza_name</th>\n",
       "    </tr>\n",
       "  </thead>\n",
       "  <tbody>\n",
       "    <tr>\n",
       "      <th>0</th>\n",
       "      <td>1</td>\n",
       "      <td>1</td>\n",
       "      <td>hawaiian_m</td>\n",
       "      <td>1</td>\n",
       "      <td>01-01-15</td>\n",
       "      <td>11:38:36</td>\n",
       "      <td>13.25</td>\n",
       "      <td>13.25</td>\n",
       "      <td>M</td>\n",
       "      <td>Classic</td>\n",
       "      <td>Sliced Ham, Pineapple, Mozzarella Cheese</td>\n",
       "      <td>The Hawaiian Pizza</td>\n",
       "    </tr>\n",
       "    <tr>\n",
       "      <th>1</th>\n",
       "      <td>2</td>\n",
       "      <td>2</td>\n",
       "      <td>classic_dlx_m</td>\n",
       "      <td>1</td>\n",
       "      <td>01-01-15</td>\n",
       "      <td>11:57:40</td>\n",
       "      <td>16.00</td>\n",
       "      <td>16.00</td>\n",
       "      <td>M</td>\n",
       "      <td>Classic</td>\n",
       "      <td>Pepperoni, Mushrooms, Red Onions, Red Peppers,...</td>\n",
       "      <td>The Classic Deluxe Pizza</td>\n",
       "    </tr>\n",
       "    <tr>\n",
       "      <th>2</th>\n",
       "      <td>3</td>\n",
       "      <td>2</td>\n",
       "      <td>five_cheese_l</td>\n",
       "      <td>1</td>\n",
       "      <td>01-01-15</td>\n",
       "      <td>11:57:40</td>\n",
       "      <td>18.50</td>\n",
       "      <td>18.50</td>\n",
       "      <td>L</td>\n",
       "      <td>Veggie</td>\n",
       "      <td>Mozzarella Cheese, Provolone Cheese, Smoked Go...</td>\n",
       "      <td>The Five Cheese Pizza</td>\n",
       "    </tr>\n",
       "    <tr>\n",
       "      <th>3</th>\n",
       "      <td>4</td>\n",
       "      <td>2</td>\n",
       "      <td>ital_supr_l</td>\n",
       "      <td>1</td>\n",
       "      <td>01-01-15</td>\n",
       "      <td>11:57:40</td>\n",
       "      <td>20.75</td>\n",
       "      <td>20.75</td>\n",
       "      <td>L</td>\n",
       "      <td>Supreme</td>\n",
       "      <td>Calabrese Salami, Capocollo, Tomatoes, Red Oni...</td>\n",
       "      <td>The Italian Supreme Pizza</td>\n",
       "    </tr>\n",
       "    <tr>\n",
       "      <th>4</th>\n",
       "      <td>5</td>\n",
       "      <td>2</td>\n",
       "      <td>mexicana_m</td>\n",
       "      <td>1</td>\n",
       "      <td>01-01-15</td>\n",
       "      <td>11:57:40</td>\n",
       "      <td>16.00</td>\n",
       "      <td>16.00</td>\n",
       "      <td>M</td>\n",
       "      <td>Veggie</td>\n",
       "      <td>Tomatoes, Red Peppers, Jalapeno Peppers, Red O...</td>\n",
       "      <td>The Mexicana Pizza</td>\n",
       "    </tr>\n",
       "  </tbody>\n",
       "</table>\n",
       "</div>"
      ],
      "text/plain": [
       "   pizza_id  order_id  pizza_name_id  quantity order_date order_time  \\\n",
       "0         1         1     hawaiian_m         1   01-01-15   11:38:36   \n",
       "1         2         2  classic_dlx_m         1   01-01-15   11:57:40   \n",
       "2         3         2  five_cheese_l         1   01-01-15   11:57:40   \n",
       "3         4         2    ital_supr_l         1   01-01-15   11:57:40   \n",
       "4         5         2     mexicana_m         1   01-01-15   11:57:40   \n",
       "\n",
       "   unit_price  total_price pizza_size pizza_category  \\\n",
       "0       13.25        13.25          M        Classic   \n",
       "1       16.00        16.00          M        Classic   \n",
       "2       18.50        18.50          L         Veggie   \n",
       "3       20.75        20.75          L        Supreme   \n",
       "4       16.00        16.00          M         Veggie   \n",
       "\n",
       "                                   pizza_ingredients  \\\n",
       "0           Sliced Ham, Pineapple, Mozzarella Cheese   \n",
       "1  Pepperoni, Mushrooms, Red Onions, Red Peppers,...   \n",
       "2  Mozzarella Cheese, Provolone Cheese, Smoked Go...   \n",
       "3  Calabrese Salami, Capocollo, Tomatoes, Red Oni...   \n",
       "4  Tomatoes, Red Peppers, Jalapeno Peppers, Red O...   \n",
       "\n",
       "                  pizza_name  \n",
       "0         The Hawaiian Pizza  \n",
       "1   The Classic Deluxe Pizza  \n",
       "2      The Five Cheese Pizza  \n",
       "3  The Italian Supreme Pizza  \n",
       "4         The Mexicana Pizza  "
      ]
     },
     "execution_count": 4,
     "metadata": {},
     "output_type": "execute_result"
    }
   ],
   "source": [
    "# show first 5 rows as sample\n",
    "df.head()"
   ]
  },
  {
   "cell_type": "code",
   "execution_count": null,
   "metadata": {},
   "outputs": [
    {
     "data": {
      "text/html": [
       "<div>\n",
       "<style scoped>\n",
       "    .dataframe tbody tr th:only-of-type {\n",
       "        vertical-align: middle;\n",
       "    }\n",
       "\n",
       "    .dataframe tbody tr th {\n",
       "        vertical-align: top;\n",
       "    }\n",
       "\n",
       "    .dataframe thead th {\n",
       "        text-align: right;\n",
       "    }\n",
       "</style>\n",
       "<table border=\"1\" class=\"dataframe\">\n",
       "  <thead>\n",
       "    <tr style=\"text-align: right;\">\n",
       "      <th></th>\n",
       "      <th>pizza_id</th>\n",
       "      <th>order_id</th>\n",
       "      <th>pizza_name_id</th>\n",
       "      <th>quantity</th>\n",
       "      <th>order_date</th>\n",
       "      <th>order_time</th>\n",
       "      <th>unit_price</th>\n",
       "      <th>total_price</th>\n",
       "      <th>pizza_size</th>\n",
       "      <th>pizza_category</th>\n",
       "      <th>pizza_ingredients</th>\n",
       "      <th>pizza_name</th>\n",
       "    </tr>\n",
       "  </thead>\n",
       "  <tbody>\n",
       "    <tr>\n",
       "      <th>48615</th>\n",
       "      <td>48616</td>\n",
       "      <td>21348</td>\n",
       "      <td>ckn_alfredo_m</td>\n",
       "      <td>1</td>\n",
       "      <td>31-12-2015</td>\n",
       "      <td>21:23:10</td>\n",
       "      <td>16.75</td>\n",
       "      <td>16.75</td>\n",
       "      <td>M</td>\n",
       "      <td>Chicken</td>\n",
       "      <td>Chicken, Red Onions, Red Peppers, Mushrooms, A...</td>\n",
       "      <td>The Chicken Alfredo Pizza</td>\n",
       "    </tr>\n",
       "    <tr>\n",
       "      <th>48616</th>\n",
       "      <td>48617</td>\n",
       "      <td>21348</td>\n",
       "      <td>four_cheese_l</td>\n",
       "      <td>1</td>\n",
       "      <td>31-12-2015</td>\n",
       "      <td>21:23:10</td>\n",
       "      <td>17.95</td>\n",
       "      <td>17.95</td>\n",
       "      <td>L</td>\n",
       "      <td>Veggie</td>\n",
       "      <td>Ricotta Cheese, Gorgonzola Piccante Cheese, Mo...</td>\n",
       "      <td>The Four Cheese Pizza</td>\n",
       "    </tr>\n",
       "    <tr>\n",
       "      <th>48617</th>\n",
       "      <td>48618</td>\n",
       "      <td>21348</td>\n",
       "      <td>napolitana_s</td>\n",
       "      <td>1</td>\n",
       "      <td>31-12-2015</td>\n",
       "      <td>21:23:10</td>\n",
       "      <td>12.00</td>\n",
       "      <td>12.00</td>\n",
       "      <td>S</td>\n",
       "      <td>Classic</td>\n",
       "      <td>Tomatoes, Anchovies, Green Olives, Red Onions,...</td>\n",
       "      <td>The Napolitana Pizza</td>\n",
       "    </tr>\n",
       "    <tr>\n",
       "      <th>48618</th>\n",
       "      <td>48619</td>\n",
       "      <td>21349</td>\n",
       "      <td>mexicana_l</td>\n",
       "      <td>1</td>\n",
       "      <td>31-12-2015</td>\n",
       "      <td>22:09:54</td>\n",
       "      <td>20.25</td>\n",
       "      <td>20.25</td>\n",
       "      <td>L</td>\n",
       "      <td>Veggie</td>\n",
       "      <td>Tomatoes, Red Peppers, Jalapeno Peppers, Red O...</td>\n",
       "      <td>The Mexicana Pizza</td>\n",
       "    </tr>\n",
       "    <tr>\n",
       "      <th>48619</th>\n",
       "      <td>48620</td>\n",
       "      <td>21350</td>\n",
       "      <td>bbq_ckn_s</td>\n",
       "      <td>1</td>\n",
       "      <td>31-12-2015</td>\n",
       "      <td>23:02:05</td>\n",
       "      <td>12.75</td>\n",
       "      <td>12.75</td>\n",
       "      <td>S</td>\n",
       "      <td>Chicken</td>\n",
       "      <td>Barbecued Chicken, Red Peppers, Green Peppers,...</td>\n",
       "      <td>The Barbecue Chicken Pizza</td>\n",
       "    </tr>\n",
       "  </tbody>\n",
       "</table>\n",
       "</div>"
      ],
      "text/plain": [
       "       pizza_id  order_id  pizza_name_id  quantity  order_date order_time  \\\n",
       "48615     48616     21348  ckn_alfredo_m         1  31-12-2015   21:23:10   \n",
       "48616     48617     21348  four_cheese_l         1  31-12-2015   21:23:10   \n",
       "48617     48618     21348   napolitana_s         1  31-12-2015   21:23:10   \n",
       "48618     48619     21349     mexicana_l         1  31-12-2015   22:09:54   \n",
       "48619     48620     21350      bbq_ckn_s         1  31-12-2015   23:02:05   \n",
       "\n",
       "       unit_price  total_price pizza_size pizza_category  \\\n",
       "48615       16.75        16.75          M        Chicken   \n",
       "48616       17.95        17.95          L         Veggie   \n",
       "48617       12.00        12.00          S        Classic   \n",
       "48618       20.25        20.25          L         Veggie   \n",
       "48619       12.75        12.75          S        Chicken   \n",
       "\n",
       "                                       pizza_ingredients  \\\n",
       "48615  Chicken, Red Onions, Red Peppers, Mushrooms, A...   \n",
       "48616  Ricotta Cheese, Gorgonzola Piccante Cheese, Mo...   \n",
       "48617  Tomatoes, Anchovies, Green Olives, Red Onions,...   \n",
       "48618  Tomatoes, Red Peppers, Jalapeno Peppers, Red O...   \n",
       "48619  Barbecued Chicken, Red Peppers, Green Peppers,...   \n",
       "\n",
       "                       pizza_name  \n",
       "48615   The Chicken Alfredo Pizza  \n",
       "48616       The Four Cheese Pizza  \n",
       "48617        The Napolitana Pizza  \n",
       "48618          The Mexicana Pizza  \n",
       "48619  The Barbecue Chicken Pizza  "
      ]
     },
     "execution_count": 5,
     "metadata": {},
     "output_type": "execute_result"
    }
   ],
   "source": [
    "# show last 5 rows as sample\n",
    "df.tail()"
   ]
  },
  {
   "cell_type": "code",
   "execution_count": null,
   "metadata": {},
   "outputs": [
    {
     "name": "stdout",
     "output_type": "stream",
     "text": [
      "<class 'pandas.core.frame.DataFrame'>\n",
      "RangeIndex: 48620 entries, 0 to 48619\n",
      "Data columns (total 12 columns):\n",
      " #   Column             Non-Null Count  Dtype  \n",
      "---  ------             --------------  -----  \n",
      " 0   pizza_id           48620 non-null  int64  \n",
      " 1   order_id           48620 non-null  int64  \n",
      " 2   pizza_name_id      48620 non-null  object \n",
      " 3   quantity           48620 non-null  int64  \n",
      " 4   order_date         48620 non-null  object \n",
      " 5   order_time         48620 non-null  object \n",
      " 6   unit_price         48620 non-null  float64\n",
      " 7   total_price        48620 non-null  float64\n",
      " 8   pizza_size         48620 non-null  object \n",
      " 9   pizza_category     48620 non-null  object \n",
      " 10  pizza_ingredients  48620 non-null  object \n",
      " 11  pizza_name         48620 non-null  object \n",
      "dtypes: float64(2), int64(3), object(7)\n",
      "memory usage: 4.5+ MB\n"
     ]
    }
   ],
   "source": [
    "# show dataframe summary to check non-null count and data type\n",
    "df.info()"
   ]
  },
  {
   "cell_type": "code",
   "execution_count": null,
   "metadata": {},
   "outputs": [
    {
     "data": {
      "text/plain": [
       "pizza_id             0\n",
       "order_id             0\n",
       "pizza_name_id        0\n",
       "quantity             0\n",
       "order_date           0\n",
       "order_time           0\n",
       "unit_price           0\n",
       "total_price          0\n",
       "pizza_size           0\n",
       "pizza_category       0\n",
       "pizza_ingredients    0\n",
       "pizza_name           0\n",
       "dtype: int64"
      ]
     },
     "execution_count": 7,
     "metadata": {},
     "output_type": "execute_result"
    }
   ],
   "source": [
    "# check missing value in dataset\n",
    "df.isnull().sum()"
   ]
  },
  {
   "cell_type": "code",
   "execution_count": null,
   "metadata": {},
   "outputs": [
    {
     "data": {
      "text/plain": [
       "0"
      ]
     },
     "execution_count": 8,
     "metadata": {},
     "output_type": "execute_result"
    }
   ],
   "source": [
    "# check for duplications in dataset\n",
    "df.duplicated().sum()"
   ]
  },
  {
   "cell_type": "markdown",
   "metadata": {},
   "source": [
    "Based on the information above, the insights obtained are as follows:\n",
    "- This dataset consists of 12 columns with a total of `48620 data entries`.\n",
    "- There is a `data type information mismatch` in `order_date` and `order_time` columns, where the data type should be datetime, not object.\n",
    "- There are no missing values ​​in the dataset because the number of non-null counts is the same as the number of data entries.\n",
    "- There are no duplicate data in the dataset."
   ]
  },
  {
   "cell_type": "markdown",
   "metadata": {},
   "source": [
    "### Data Cleaning"
   ]
  },
  {
   "cell_type": "code",
   "execution_count": null,
   "metadata": {},
   "outputs": [],
   "source": [
    "# change data type and format in column 'order_date'\n",
    "df['order_date'] = pd.to_datetime(df['order_date'], format='%d-%m-%Y',errors='coerce')\n",
    "# using coerce to convert a variable from one data type to another, format:yyyy-mm-dd"
   ]
  },
  {
   "cell_type": "code",
   "execution_count": null,
   "metadata": {},
   "outputs": [],
   "source": [
    "# change data type and format in column 'order_date'\n",
    "df['order_time'] = pd.to_datetime(df['order_time'], format='%H:%M:%S',errors='coerce')"
   ]
  },
  {
   "cell_type": "code",
   "execution_count": null,
   "metadata": {},
   "outputs": [],
   "source": [
    "# handling missing value on column 'order_date' with dropna\n",
    "df = df.dropna(subset=['order_date'])"
   ]
  },
  {
   "cell_type": "code",
   "execution_count": null,
   "metadata": {},
   "outputs": [],
   "source": [
    "# Change data type to integer with astype to make it easier (optional), because id and quantity are not possible in decimal form\n",
    "df['pizza_id'] = df['pizza_id'].astype(int)\n",
    "df['order_id'] = df['order_id'].astype(int)\n",
    "df['quantity'] = df['quantity'].astype(int)"
   ]
  },
  {
   "cell_type": "code",
   "execution_count": null,
   "metadata": {},
   "outputs": [
    {
     "name": "stdout",
     "output_type": "stream",
     "text": [
      "<class 'pandas.core.frame.DataFrame'>\n",
      "Index: 29033 entries, 1650 to 48619\n",
      "Data columns (total 12 columns):\n",
      " #   Column             Non-Null Count  Dtype         \n",
      "---  ------             --------------  -----         \n",
      " 0   pizza_id           29033 non-null  int64         \n",
      " 1   order_id           29033 non-null  int64         \n",
      " 2   pizza_name_id      29033 non-null  object        \n",
      " 3   quantity           29033 non-null  int64         \n",
      " 4   order_date         29033 non-null  datetime64[ns]\n",
      " 5   order_time         29033 non-null  datetime64[ns]\n",
      " 6   unit_price         29033 non-null  float64       \n",
      " 7   total_price        29033 non-null  float64       \n",
      " 8   pizza_size         29033 non-null  object        \n",
      " 9   pizza_category     29033 non-null  object        \n",
      " 10  pizza_ingredients  29033 non-null  object        \n",
      " 11  pizza_name         29033 non-null  object        \n",
      "dtypes: datetime64[ns](2), float64(2), int64(3), object(5)\n",
      "memory usage: 2.9+ MB\n"
     ]
    }
   ],
   "source": [
    "df.info()"
   ]
  },
  {
   "cell_type": "code",
   "execution_count": null,
   "metadata": {},
   "outputs": [
    {
     "data": {
      "text/html": [
       "<div>\n",
       "<style scoped>\n",
       "    .dataframe tbody tr th:only-of-type {\n",
       "        vertical-align: middle;\n",
       "    }\n",
       "\n",
       "    .dataframe tbody tr th {\n",
       "        vertical-align: top;\n",
       "    }\n",
       "\n",
       "    .dataframe thead th {\n",
       "        text-align: right;\n",
       "    }\n",
       "</style>\n",
       "<table border=\"1\" class=\"dataframe\">\n",
       "  <thead>\n",
       "    <tr style=\"text-align: right;\">\n",
       "      <th></th>\n",
       "      <th>pizza_id</th>\n",
       "      <th>order_id</th>\n",
       "      <th>pizza_name_id</th>\n",
       "      <th>quantity</th>\n",
       "      <th>order_date</th>\n",
       "      <th>order_time</th>\n",
       "      <th>unit_price</th>\n",
       "      <th>total_price</th>\n",
       "      <th>pizza_size</th>\n",
       "      <th>pizza_category</th>\n",
       "      <th>pizza_ingredients</th>\n",
       "      <th>pizza_name</th>\n",
       "    </tr>\n",
       "  </thead>\n",
       "  <tbody>\n",
       "    <tr>\n",
       "      <th>1650</th>\n",
       "      <td>1651</td>\n",
       "      <td>737</td>\n",
       "      <td>bbq_ckn_m</td>\n",
       "      <td>1</td>\n",
       "      <td>2015-01-13</td>\n",
       "      <td>1900-01-01 11:31:34</td>\n",
       "      <td>16.75</td>\n",
       "      <td>16.75</td>\n",
       "      <td>M</td>\n",
       "      <td>Chicken</td>\n",
       "      <td>Barbecued Chicken, Red Peppers, Green Peppers,...</td>\n",
       "      <td>The Barbecue Chicken Pizza</td>\n",
       "    </tr>\n",
       "    <tr>\n",
       "      <th>1651</th>\n",
       "      <td>1652</td>\n",
       "      <td>737</td>\n",
       "      <td>thai_ckn_m</td>\n",
       "      <td>1</td>\n",
       "      <td>2015-01-13</td>\n",
       "      <td>1900-01-01 11:31:34</td>\n",
       "      <td>16.75</td>\n",
       "      <td>16.75</td>\n",
       "      <td>M</td>\n",
       "      <td>Chicken</td>\n",
       "      <td>Chicken, Pineapple, Tomatoes, Red Peppers, Tha...</td>\n",
       "      <td>The Thai Chicken Pizza</td>\n",
       "    </tr>\n",
       "    <tr>\n",
       "      <th>1652</th>\n",
       "      <td>1653</td>\n",
       "      <td>738</td>\n",
       "      <td>southw_ckn_m</td>\n",
       "      <td>1</td>\n",
       "      <td>2015-01-13</td>\n",
       "      <td>1900-01-01 12:16:47</td>\n",
       "      <td>16.75</td>\n",
       "      <td>16.75</td>\n",
       "      <td>M</td>\n",
       "      <td>Chicken</td>\n",
       "      <td>Chicken, Tomatoes, Red Peppers, Red Onions, Ja...</td>\n",
       "      <td>The Southwest Chicken Pizza</td>\n",
       "    </tr>\n",
       "    <tr>\n",
       "      <th>1653</th>\n",
       "      <td>1654</td>\n",
       "      <td>739</td>\n",
       "      <td>big_meat_s</td>\n",
       "      <td>1</td>\n",
       "      <td>2015-01-13</td>\n",
       "      <td>1900-01-01 12:19:38</td>\n",
       "      <td>12.00</td>\n",
       "      <td>12.00</td>\n",
       "      <td>S</td>\n",
       "      <td>Classic</td>\n",
       "      <td>Bacon, Pepperoni, Italian Sausage, Chorizo Sau...</td>\n",
       "      <td>The Big Meat Pizza</td>\n",
       "    </tr>\n",
       "    <tr>\n",
       "      <th>1654</th>\n",
       "      <td>1655</td>\n",
       "      <td>740</td>\n",
       "      <td>cali_ckn_m</td>\n",
       "      <td>1</td>\n",
       "      <td>2015-01-13</td>\n",
       "      <td>1900-01-01 12:29:51</td>\n",
       "      <td>16.75</td>\n",
       "      <td>16.75</td>\n",
       "      <td>M</td>\n",
       "      <td>Chicken</td>\n",
       "      <td>Chicken, Artichoke, Spinach, Garlic, Jalapeno ...</td>\n",
       "      <td>The California Chicken Pizza</td>\n",
       "    </tr>\n",
       "  </tbody>\n",
       "</table>\n",
       "</div>"
      ],
      "text/plain": [
       "      pizza_id  order_id pizza_name_id  quantity order_date  \\\n",
       "1650      1651       737     bbq_ckn_m         1 2015-01-13   \n",
       "1651      1652       737    thai_ckn_m         1 2015-01-13   \n",
       "1652      1653       738  southw_ckn_m         1 2015-01-13   \n",
       "1653      1654       739    big_meat_s         1 2015-01-13   \n",
       "1654      1655       740    cali_ckn_m         1 2015-01-13   \n",
       "\n",
       "              order_time  unit_price  total_price pizza_size pizza_category  \\\n",
       "1650 1900-01-01 11:31:34       16.75        16.75          M        Chicken   \n",
       "1651 1900-01-01 11:31:34       16.75        16.75          M        Chicken   \n",
       "1652 1900-01-01 12:16:47       16.75        16.75          M        Chicken   \n",
       "1653 1900-01-01 12:19:38       12.00        12.00          S        Classic   \n",
       "1654 1900-01-01 12:29:51       16.75        16.75          M        Chicken   \n",
       "\n",
       "                                      pizza_ingredients  \\\n",
       "1650  Barbecued Chicken, Red Peppers, Green Peppers,...   \n",
       "1651  Chicken, Pineapple, Tomatoes, Red Peppers, Tha...   \n",
       "1652  Chicken, Tomatoes, Red Peppers, Red Onions, Ja...   \n",
       "1653  Bacon, Pepperoni, Italian Sausage, Chorizo Sau...   \n",
       "1654  Chicken, Artichoke, Spinach, Garlic, Jalapeno ...   \n",
       "\n",
       "                        pizza_name  \n",
       "1650    The Barbecue Chicken Pizza  \n",
       "1651        The Thai Chicken Pizza  \n",
       "1652   The Southwest Chicken Pizza  \n",
       "1653            The Big Meat Pizza  \n",
       "1654  The California Chicken Pizza  "
      ]
     },
     "execution_count": 14,
     "metadata": {},
     "output_type": "execute_result"
    }
   ],
   "source": [
    "df.head()"
   ]
  },
  {
   "cell_type": "code",
   "execution_count": null,
   "metadata": {},
   "outputs": [
    {
     "data": {
      "text/html": [
       "<div>\n",
       "<style scoped>\n",
       "    .dataframe tbody tr th:only-of-type {\n",
       "        vertical-align: middle;\n",
       "    }\n",
       "\n",
       "    .dataframe tbody tr th {\n",
       "        vertical-align: top;\n",
       "    }\n",
       "\n",
       "    .dataframe thead th {\n",
       "        text-align: right;\n",
       "    }\n",
       "</style>\n",
       "<table border=\"1\" class=\"dataframe\">\n",
       "  <thead>\n",
       "    <tr style=\"text-align: right;\">\n",
       "      <th></th>\n",
       "      <th>pizza_id</th>\n",
       "      <th>order_id</th>\n",
       "      <th>pizza_name_id</th>\n",
       "      <th>quantity</th>\n",
       "      <th>order_date</th>\n",
       "      <th>order_time</th>\n",
       "      <th>unit_price</th>\n",
       "      <th>total_price</th>\n",
       "      <th>pizza_size</th>\n",
       "      <th>pizza_category</th>\n",
       "      <th>pizza_ingredients</th>\n",
       "      <th>pizza_name</th>\n",
       "    </tr>\n",
       "  </thead>\n",
       "  <tbody>\n",
       "    <tr>\n",
       "      <th>48615</th>\n",
       "      <td>48616</td>\n",
       "      <td>21348</td>\n",
       "      <td>ckn_alfredo_m</td>\n",
       "      <td>1</td>\n",
       "      <td>2015-12-31</td>\n",
       "      <td>1900-01-01 21:23:10</td>\n",
       "      <td>16.75</td>\n",
       "      <td>16.75</td>\n",
       "      <td>M</td>\n",
       "      <td>Chicken</td>\n",
       "      <td>Chicken, Red Onions, Red Peppers, Mushrooms, A...</td>\n",
       "      <td>The Chicken Alfredo Pizza</td>\n",
       "    </tr>\n",
       "    <tr>\n",
       "      <th>48616</th>\n",
       "      <td>48617</td>\n",
       "      <td>21348</td>\n",
       "      <td>four_cheese_l</td>\n",
       "      <td>1</td>\n",
       "      <td>2015-12-31</td>\n",
       "      <td>1900-01-01 21:23:10</td>\n",
       "      <td>17.95</td>\n",
       "      <td>17.95</td>\n",
       "      <td>L</td>\n",
       "      <td>Veggie</td>\n",
       "      <td>Ricotta Cheese, Gorgonzola Piccante Cheese, Mo...</td>\n",
       "      <td>The Four Cheese Pizza</td>\n",
       "    </tr>\n",
       "    <tr>\n",
       "      <th>48617</th>\n",
       "      <td>48618</td>\n",
       "      <td>21348</td>\n",
       "      <td>napolitana_s</td>\n",
       "      <td>1</td>\n",
       "      <td>2015-12-31</td>\n",
       "      <td>1900-01-01 21:23:10</td>\n",
       "      <td>12.00</td>\n",
       "      <td>12.00</td>\n",
       "      <td>S</td>\n",
       "      <td>Classic</td>\n",
       "      <td>Tomatoes, Anchovies, Green Olives, Red Onions,...</td>\n",
       "      <td>The Napolitana Pizza</td>\n",
       "    </tr>\n",
       "    <tr>\n",
       "      <th>48618</th>\n",
       "      <td>48619</td>\n",
       "      <td>21349</td>\n",
       "      <td>mexicana_l</td>\n",
       "      <td>1</td>\n",
       "      <td>2015-12-31</td>\n",
       "      <td>1900-01-01 22:09:54</td>\n",
       "      <td>20.25</td>\n",
       "      <td>20.25</td>\n",
       "      <td>L</td>\n",
       "      <td>Veggie</td>\n",
       "      <td>Tomatoes, Red Peppers, Jalapeno Peppers, Red O...</td>\n",
       "      <td>The Mexicana Pizza</td>\n",
       "    </tr>\n",
       "    <tr>\n",
       "      <th>48619</th>\n",
       "      <td>48620</td>\n",
       "      <td>21350</td>\n",
       "      <td>bbq_ckn_s</td>\n",
       "      <td>1</td>\n",
       "      <td>2015-12-31</td>\n",
       "      <td>1900-01-01 23:02:05</td>\n",
       "      <td>12.75</td>\n",
       "      <td>12.75</td>\n",
       "      <td>S</td>\n",
       "      <td>Chicken</td>\n",
       "      <td>Barbecued Chicken, Red Peppers, Green Peppers,...</td>\n",
       "      <td>The Barbecue Chicken Pizza</td>\n",
       "    </tr>\n",
       "  </tbody>\n",
       "</table>\n",
       "</div>"
      ],
      "text/plain": [
       "       pizza_id  order_id  pizza_name_id  quantity order_date  \\\n",
       "48615     48616     21348  ckn_alfredo_m         1 2015-12-31   \n",
       "48616     48617     21348  four_cheese_l         1 2015-12-31   \n",
       "48617     48618     21348   napolitana_s         1 2015-12-31   \n",
       "48618     48619     21349     mexicana_l         1 2015-12-31   \n",
       "48619     48620     21350      bbq_ckn_s         1 2015-12-31   \n",
       "\n",
       "               order_time  unit_price  total_price pizza_size pizza_category  \\\n",
       "48615 1900-01-01 21:23:10       16.75        16.75          M        Chicken   \n",
       "48616 1900-01-01 21:23:10       17.95        17.95          L         Veggie   \n",
       "48617 1900-01-01 21:23:10       12.00        12.00          S        Classic   \n",
       "48618 1900-01-01 22:09:54       20.25        20.25          L         Veggie   \n",
       "48619 1900-01-01 23:02:05       12.75        12.75          S        Chicken   \n",
       "\n",
       "                                       pizza_ingredients  \\\n",
       "48615  Chicken, Red Onions, Red Peppers, Mushrooms, A...   \n",
       "48616  Ricotta Cheese, Gorgonzola Piccante Cheese, Mo...   \n",
       "48617  Tomatoes, Anchovies, Green Olives, Red Onions,...   \n",
       "48618  Tomatoes, Red Peppers, Jalapeno Peppers, Red O...   \n",
       "48619  Barbecued Chicken, Red Peppers, Green Peppers,...   \n",
       "\n",
       "                       pizza_name  \n",
       "48615   The Chicken Alfredo Pizza  \n",
       "48616       The Four Cheese Pizza  \n",
       "48617        The Napolitana Pizza  \n",
       "48618          The Mexicana Pizza  \n",
       "48619  The Barbecue Chicken Pizza  "
      ]
     },
     "execution_count": 15,
     "metadata": {},
     "output_type": "execute_result"
    }
   ],
   "source": [
    "df.tail()"
   ]
  },
  {
   "cell_type": "markdown",
   "metadata": {},
   "source": [
    "After performing data cleaning, `df.info`, `df.head`, and `df.tail` are redisplayed to ensure that the value data types in all columns are correct.\n",
    "\n",
    "When changing the data type in the 'order_date' column from object to datetime, it turned out that the writing format was inconsistent, thus, 'Not at Time' appeared as a missing value in that column. In this context, missing values ​​may occur because there are human error in the 'order_date' format in filling in the data entries (Missing at Random). For this reason, handling missing values ​​is carried out using `.dropna`, which the amount of data becomes `29033 data entries` after dropping."
   ]
  },
  {
   "cell_type": "markdown",
   "metadata": {},
   "source": [
    "Next, identify whether there are outliers in the data is necessary. If there are, you must handle these outliers. For this reason, simple statistical calculations will be carried out ."
   ]
  },
  {
   "cell_type": "code",
   "execution_count": null,
   "metadata": {},
   "outputs": [
    {
     "name": "stdout",
     "output_type": "stream",
     "text": [
      "Mean of quantity: 1.0196672751696345 products\n",
      "Median of quantity: 1.0 products\n",
      "Skewness of quantity: 7.811941913097294\n"
     ]
    }
   ],
   "source": [
    "# mean, median, and skewness calculation for column 'quantity'\n",
    "print(f\"Mean of quantity: {df['quantity'].mean()}\",'products')\n",
    "print(f\"Median of quantity: {df['quantity'].median()}\",'products')\n",
    "print(f\"Skewness of quantity: {df['quantity'].skew()}\")"
   ]
  },
  {
   "cell_type": "code",
   "execution_count": null,
   "metadata": {},
   "outputs": [
    {
     "name": "stdout",
     "output_type": "stream",
     "text": [
      "Mean of unit price: 16.498081493472945 products\n",
      "Median of unit price: 16.5 products\n",
      "Skewness of unit price: 0.15971801016420595\n"
     ]
    }
   ],
   "source": [
    "# mean, median, and skewness calculation for column 'unit_price'\n",
    "print(f\"Mean of unit price: {df['unit_price'].mean()}\",'products')\n",
    "print(f\"Median of unit price: {df['unit_price'].median()}\",'products')\n",
    "print(f\"Skewness of unit price: {df['unit_price'].skew()}\")"
   ]
  },
  {
   "cell_type": "code",
   "execution_count": null,
   "metadata": {},
   "outputs": [
    {
     "name": "stdout",
     "output_type": "stream",
     "text": [
      "Mean of total price: 16.826723039300106\n",
      "Median of total price: 16.5\n",
      "Skewness of total price: 1.7748549397732913\n"
     ]
    }
   ],
   "source": [
    "# mean, median, and skewness calculation for column 'total_price'\n",
    "print(f\"Mean of total price: {df['total_price'].mean()}\")\n",
    "print(f\"Median of total price: {df['total_price'].median()}\")\n",
    "print(f\"Skewness of total price: {df['total_price'].skew()}\")"
   ]
  },
  {
   "cell_type": "markdown",
   "metadata": {},
   "source": [
    "In statistical calculations, there is a correlation between mean, median, and skewness.\n",
    "- If mean = median then the data distribution is perfectly distributed\n",
    "normal.\n",
    "- If  mean > median then the data distribution is positive skewed, where outliers are detected in the right side of data distribution.\n",
    "- If mean < median then the data distribution is negative skewed, where outliers are detected in the left side of data distribution.\n",
    "\n",
    "In line with this, skewness has a limit value of -0.5 and 0.5 for the normal skewed distribution and values ​​below -1 or above 1 have an extremely skewed distribution which indicates there are outliers.\n",
    "\n",
    "Based on the results of statistical calculations, it can be seen that the data distribution in the 'unit_price' column has a normal distribution because the value is <0.5. Meanwhile, the data distribution in 'total_price' columns has an extremely positively skewed because the value is > 1. For this reason, in the cleaning stage we will handle outliers with a z-score for 'unit_price' and use Tukey's Rule for 'total_price'. Wherareas, outliers in column 'quantity' are not removed because the conditions are natural.\n",
    "\n",
    "Based on this analysis, the outliers in the data are natural because there is the possibility that there are marketing activity factors that can increase revenue in a certain period."
   ]
  },
  {
   "cell_type": "code",
   "execution_count": null,
   "metadata": {},
   "outputs": [
    {
     "name": "stdout",
     "output_type": "stream",
     "text": [
      "Upper Boundary of unit_price: 27.42\n",
      "Lower Boundary of unit_price 5.58\n",
      "Percentage of outliers in unit_price: 0.08%%\n"
     ]
    }
   ],
   "source": [
    "# handling outlier on column 'unit_price' with z-score\n",
    "avg = df['unit_price'].mean()\n",
    "std = df['unit_price'].std()\n",
    "\n",
    "up_bound = avg + 3 *std\n",
    "low_bound = avg - 3 *std\n",
    "\n",
    "print(f'Upper Boundary of unit_price: {up_bound:.2f}' )\n",
    "print(f'Lower Boundary of unit_price {low_bound:.2f}')\n",
    "\n",
    "outlier_unit_price = df['unit_price'][(df['unit_price']<low_bound) | (df['unit_price']>up_bound)]\n",
    "no_outlier_unit_price = df['unit_price'][(df['unit_price']>=low_bound) & (df['unit_price']<=up_bound)]\n",
    "\n",
    "print(f\"Percentage of outliers in unit_price: {len(outlier_unit_price)*100/len(df['unit_price']):.2f}%%\")"
   ]
  },
  {
   "cell_type": "code",
   "execution_count": null,
   "metadata": {},
   "outputs": [
    {
     "name": "stdout",
     "output_type": "stream",
     "text": [
      "Lower Boundary of total_price: 1.12\n",
      "Upper Boundary of total_price: 32.12\n",
      "Percentage of outliers in total_price: 1.29%%\n"
     ]
    }
   ],
   "source": [
    "# handling outlier on column 'total_price' with Tukey's Rule\n",
    "q1 = df['total_price'].quantile(0.25)\n",
    "q3 = df['total_price'].quantile(0.75)\n",
    "iqr = q3 - q1\n",
    "\n",
    "low_bound = q1 - 1.5 * iqr\n",
    "up_bound = q3 + 1.5 * iqr\n",
    "\n",
    "print(f'Lower Boundary of total_price: {low_bound:.2f}')\n",
    "print(f'Upper Boundary of total_price: {up_bound:.2f}')\n",
    "\n",
    "outlier_total_price = df['total_price'][(df['total_price']<low_bound) | (df['total_price']>up_bound)]\n",
    "no_outlier_total_price = df['total_price'][(df['total_price']>=low_bound) & (df['total_price']<=up_bound)]\n",
    "\n",
    "print(f\"Percentage of outliers in total_price: {len(outlier_total_price)*100/len(df['total_price']):.2f}%%\")"
   ]
  },
  {
   "cell_type": "markdown",
   "metadata": {},
   "source": [
    "The parameter for determining whether outlier values ​​are kept or discarded is to look at the percentage of outliers in the data in that column. If the outlier percentage result is <5% then the outlier value must be discarded, whereas if the outlier percentage result is >5% then the outlier data is not discarded. This is because if the outlier percentage < 5% data deletion will not be too affected by the data entries because the amount is relatively small, whereas too much data will be discarded if we discard data with an outlier percentage > 5% where the number of data entries will be reduced significantly.\n",
    "\n",
    "Calculation of the outlier percentage in the 'unit_price' and 'total_price' columns shows a result of <5%, where based on the parameters above we will discard the outlier data in both columns. Then, checking skewness is carried out to see whether the outlier was successful deleted or not."
   ]
  },
  {
   "cell_type": "code",
   "execution_count": null,
   "metadata": {},
   "outputs": [],
   "source": [
    "# deleting outlier\n",
    "df = df.loc[(df['unit_price']>=low_bound) & (df['unit_price']<=up_bound)]\n",
    "df = df.loc[(df['total_price']>=low_bound) & (df['total_price']<=up_bound)]"
   ]
  },
  {
   "cell_type": "code",
   "execution_count": null,
   "metadata": {},
   "outputs": [
    {
     "data": {
      "text/plain": [
       "Series([], Name: unit_price, dtype: float64)"
      ]
     },
     "execution_count": 22,
     "metadata": {},
     "output_type": "execute_result"
    }
   ],
   "source": [
    "# checking data after dropping outliers in column 'unit_price'\n",
    "df['unit_price'][(df['unit_price']<low_bound) | (df['unit_price']>up_bound)]"
   ]
  },
  {
   "cell_type": "code",
   "execution_count": null,
   "metadata": {},
   "outputs": [
    {
     "data": {
      "text/plain": [
       "Series([], Name: total_price, dtype: float64)"
      ]
     },
     "execution_count": 23,
     "metadata": {},
     "output_type": "execute_result"
    }
   ],
   "source": [
    "# checking dataframe after dropping outliers in column 'total_price'\n",
    "df['total_price'][(df['total_price']<low_bound) | (df['total_price']>up_bound)]"
   ]
  },
  {
   "cell_type": "code",
   "execution_count": null,
   "metadata": {},
   "outputs": [
    {
     "name": "stdout",
     "output_type": "stream",
     "text": [
      "Skewness unit price without outlier: 0.07107808893854793\n",
      "Skewness total price price without outlier: 0.15075493755930985\n"
     ]
    }
   ],
   "source": [
    "# checking skewness after dropping outlier\n",
    "print(f\"Skewness unit price without outlier: {df['unit_price'].skew()}\")\n",
    "print(f\"Skewness total price price without outlier: {df['total_price'].skew()}\")"
   ]
  },
  {
   "cell_type": "code",
   "execution_count": null,
   "metadata": {},
   "outputs": [],
   "source": [
    "# reset index after cleaning\n",
    "df = df.reset_index()\n",
    "\n",
    "# dropping extra index column\n",
    "df.drop('index',axis=1,inplace=True)"
   ]
  },
  {
   "cell_type": "code",
   "execution_count": null,
   "metadata": {},
   "outputs": [],
   "source": [
    "# save cleaned file to .csv\n",
    "df.to_csv('cleaned_pizza_sales.csv',index=False)"
   ]
  },
  {
   "cell_type": "markdown",
   "metadata": {},
   "source": [
    "## Data Analysis"
   ]
  },
  {
   "cell_type": "markdown",
   "metadata": {},
   "source": [
    "#### Initially, as a consultant I had to analyze `overall pizza sales revenue in 2015`. To achieve this, comparing sales revenue per month is necessary to see which month's sales are profitable."
   ]
  },
  {
   "cell_type": "code",
   "execution_count": null,
   "metadata": {},
   "outputs": [],
   "source": [
    "# create column sales revenue\n",
    "df['revenue'] = df['quantity']*df['total_price']"
   ]
  },
  {
   "cell_type": "code",
   "execution_count": null,
   "metadata": {},
   "outputs": [],
   "source": [
    "# create column 'month'\n",
    "df['month'] = df['order_date'].dt.month"
   ]
  },
  {
   "cell_type": "code",
   "execution_count": null,
   "metadata": {},
   "outputs": [],
   "source": [
    "# change month number to month name with replace\n",
    "df['month'] = df['month'].replace({1: 'January', 2: 'February', 3: 'March', 4: 'April',\n",
    "                                5: 'May', 6: 'June', 7: 'July', 8: 'August', 9: 'September',\n",
    "                                10: 'October', 11: 'November', 12: 'December'})"
   ]
  },
  {
   "cell_type": "code",
   "execution_count": null,
   "metadata": {},
   "outputs": [
    {
     "data": {
      "text/html": [
       "<div>\n",
       "<style scoped>\n",
       "    .dataframe tbody tr th:only-of-type {\n",
       "        vertical-align: middle;\n",
       "    }\n",
       "\n",
       "    .dataframe tbody tr th {\n",
       "        vertical-align: top;\n",
       "    }\n",
       "\n",
       "    .dataframe thead th {\n",
       "        text-align: right;\n",
       "    }\n",
       "</style>\n",
       "<table border=\"1\" class=\"dataframe\">\n",
       "  <thead>\n",
       "    <tr style=\"text-align: right;\">\n",
       "      <th></th>\n",
       "      <th>revenue</th>\n",
       "    </tr>\n",
       "    <tr>\n",
       "      <th>month</th>\n",
       "      <th></th>\n",
       "    </tr>\n",
       "  </thead>\n",
       "  <tbody>\n",
       "    <tr>\n",
       "      <th>January</th>\n",
       "      <td>40853.80</td>\n",
       "    </tr>\n",
       "    <tr>\n",
       "      <th>February</th>\n",
       "      <td>36186.50</td>\n",
       "    </tr>\n",
       "    <tr>\n",
       "      <th>March</th>\n",
       "      <td>42818.00</td>\n",
       "    </tr>\n",
       "    <tr>\n",
       "      <th>April</th>\n",
       "      <td>39719.35</td>\n",
       "    </tr>\n",
       "    <tr>\n",
       "      <th>May</th>\n",
       "      <td>42809.15</td>\n",
       "    </tr>\n",
       "    <tr>\n",
       "      <th>June</th>\n",
       "      <td>39176.80</td>\n",
       "    </tr>\n",
       "    <tr>\n",
       "      <th>July</th>\n",
       "      <td>42554.35</td>\n",
       "    </tr>\n",
       "    <tr>\n",
       "      <th>August</th>\n",
       "      <td>41083.95</td>\n",
       "    </tr>\n",
       "    <tr>\n",
       "      <th>September</th>\n",
       "      <td>35161.15</td>\n",
       "    </tr>\n",
       "    <tr>\n",
       "      <th>October</th>\n",
       "      <td>40259.10</td>\n",
       "    </tr>\n",
       "    <tr>\n",
       "      <th>November</th>\n",
       "      <td>42259.00</td>\n",
       "    </tr>\n",
       "    <tr>\n",
       "      <th>December</th>\n",
       "      <td>36263.80</td>\n",
       "    </tr>\n",
       "  </tbody>\n",
       "</table>\n",
       "</div>"
      ],
      "text/plain": [
       "            revenue\n",
       "month              \n",
       "January    40853.80\n",
       "February   36186.50\n",
       "March      42818.00\n",
       "April      39719.35\n",
       "May        42809.15\n",
       "June       39176.80\n",
       "July       42554.35\n",
       "August     41083.95\n",
       "September  35161.15\n",
       "October    40259.10\n",
       "November   42259.00\n",
       "December   36263.80"
      ]
     },
     "execution_count": 30,
     "metadata": {},
     "output_type": "execute_result"
    }
   ],
   "source": [
    "# sorting month name based on the correct month order, not alphabetical\n",
    "new_order = ['January', 'February', 'March', 'April', 'May', 'June', 'July', 'August', 'September', 'October', 'November', 'December']\n",
    "\n",
    "# grouping sales revenue by month\n",
    "revenue_per_month = df.groupby('month')[['revenue']].sum()\n",
    "revenue_per_month = revenue_per_month.reindex(new_order,axis=0)\n",
    "revenue_per_month"
   ]
  },
  {
   "cell_type": "code",
   "execution_count": null,
   "metadata": {},
   "outputs": [
    {
     "data": {
      "text/plain": [
       "revenue    39928.745833\n",
       "dtype: float64"
      ]
     },
     "execution_count": 31,
     "metadata": {},
     "output_type": "execute_result"
    }
   ],
   "source": [
    "revenue_per_month.mean()"
   ]
  },
  {
   "cell_type": "code",
   "execution_count": null,
   "metadata": {},
   "outputs": [
    {
     "data": {
      "text/plain": [
       "Text(0, 0.5, 'Revenue')"
      ]
     },
     "execution_count": 32,
     "metadata": {},
     "output_type": "execute_result"
    },
    {
     "data": {
      "image/png": "[encoded data removed]",
      "text/plain": [
       "<Figure size 640x480 with 1 Axes>"
      ]
     },
     "metadata": {},
     "output_type": "display_data"
    }
   ],
   "source": [
    "# data visualization\n",
    "revenue_per_month.plot(kind='line')\n",
    "plt.title('Sales Revenue 2015')\n",
    "plt.xlabel('Month')\n",
    "plt.ylabel('Revenue')"
   ]
  },
  {
   "cell_type": "markdown",
   "metadata": {},
   "source": [
    "To visualize the data, using the `line plot` visualization is appropriate because the objective is to display sales revenue trends over a certain time period, namely sales revenue in 2015 based on month.\n",
    "\n",
    "Based on the image above, the insights obtained are as follows:\n",
    "- Sales revenue tends to be fluctuating, with the average value of pizza sales are 39,928.75 dollars.\n",
    "- The highest revenue occurred in March, where the revenue obtained was 42,818 dollars.\n",
    "- The lowest revenue occurred in September, where the revenue obtained was 35,161.15 dollars.\n",
    "- Significant increase in revenue from June to July, with a total increase in revenue of 120.2%.\n",
    "- Significant consistent decrease in revenue from July to September, with a total decrease in revenue of -121%."
   ]
  },
  {
   "cell_type": "markdown",
   "metadata": {},
   "source": [
    "#### Second, I want to see `pizza sold in each category` by look at the percentage of sales based on pizza category to see customers' favorite pizza categories."
   ]
  },
  {
   "cell_type": "code",
   "execution_count": null,
   "metadata": {},
   "outputs": [
    {
     "data": {
      "image/png": "[encoded data removed]",
      "text/plain": [
       "<Figure size 500x500 with 1 Axes>"
      ]
     },
     "metadata": {},
     "output_type": "display_data"
    }
   ],
   "source": [
    "# data visualization\n",
    "fig,ax1 = plt.subplots(figsize=(5,5))\n",
    "\n",
    "df['pizza_category'].value_counts().plot(kind='pie', autopct='%.2f%%',ax=ax1)\n",
    "plt.title('Percentage of pizza sold in each category')\n",
    "plt.show()"
   ]
  },
  {
   "cell_type": "markdown",
   "metadata": {},
   "source": [
    "To visualize the data, using a pie chart visualization is appropriate because the objective is to see what pizza categories match customer preferences and compare them with other categories. Apart from that, because the number of pizza categories is small, it is only divided into 4 categories.\n",
    "\n",
    "Based on the image above, the insights obtained is `the difference in sales revenue on the four pizza categories  is not significant`, where the largest percentage is 30.47% from the classic pizza category and the smallest is from the chicken pizza category, which is 22.13%."
   ]
  },
  {
   "cell_type": "markdown",
   "metadata": {},
   "source": [
    "#### Thirdly, I want to analyze `which Pizza category sold the most (best seller) in 2015` by comparing the number of pizzas sold in each month based on pizza category."
   ]
  },
  {
   "cell_type": "code",
   "execution_count": null,
   "metadata": {},
   "outputs": [],
   "source": [
    "# grouping quantity sold per category by month\n",
    "quantity_sold = df.groupby(['month','pizza_category'])[['quantity']].sum().reset_index() \n",
    "# using .reset_index() in order to read the column 'month'"
   ]
  },
  {
   "cell_type": "code",
   "execution_count": null,
   "metadata": {},
   "outputs": [
    {
     "data": {
      "text/html": [
       "<div>\n",
       "<style scoped>\n",
       "    .dataframe tbody tr th:only-of-type {\n",
       "        vertical-align: middle;\n",
       "    }\n",
       "\n",
       "    .dataframe tbody tr th {\n",
       "        vertical-align: top;\n",
       "    }\n",
       "\n",
       "    .dataframe thead th {\n",
       "        text-align: right;\n",
       "    }\n",
       "</style>\n",
       "<table border=\"1\" class=\"dataframe\">\n",
       "  <thead>\n",
       "    <tr style=\"text-align: right;\">\n",
       "      <th></th>\n",
       "      <th>month</th>\n",
       "      <th>pizza_category</th>\n",
       "      <th>quantity</th>\n",
       "    </tr>\n",
       "  </thead>\n",
       "  <tbody>\n",
       "    <tr>\n",
       "      <th>0</th>\n",
       "      <td>January</td>\n",
       "      <td>Veggie</td>\n",
       "      <td>586</td>\n",
       "    </tr>\n",
       "    <tr>\n",
       "      <th>1</th>\n",
       "      <td>January</td>\n",
       "      <td>Supreme</td>\n",
       "      <td>606</td>\n",
       "    </tr>\n",
       "    <tr>\n",
       "      <th>2</th>\n",
       "      <td>January</td>\n",
       "      <td>Classic</td>\n",
       "      <td>747</td>\n",
       "    </tr>\n",
       "    <tr>\n",
       "      <th>3</th>\n",
       "      <td>January</td>\n",
       "      <td>Chicken</td>\n",
       "      <td>541</td>\n",
       "    </tr>\n",
       "    <tr>\n",
       "      <th>4</th>\n",
       "      <td>February</td>\n",
       "      <td>Veggie</td>\n",
       "      <td>516</td>\n",
       "    </tr>\n",
       "    <tr>\n",
       "      <th>5</th>\n",
       "      <td>February</td>\n",
       "      <td>Supreme</td>\n",
       "      <td>512</td>\n",
       "    </tr>\n",
       "    <tr>\n",
       "      <th>6</th>\n",
       "      <td>February</td>\n",
       "      <td>Classic</td>\n",
       "      <td>659</td>\n",
       "    </tr>\n",
       "    <tr>\n",
       "      <th>7</th>\n",
       "      <td>February</td>\n",
       "      <td>Chicken</td>\n",
       "      <td>495</td>\n",
       "    </tr>\n",
       "    <tr>\n",
       "      <th>8</th>\n",
       "      <td>March</td>\n",
       "      <td>Chicken</td>\n",
       "      <td>598</td>\n",
       "    </tr>\n",
       "    <tr>\n",
       "      <th>9</th>\n",
       "      <td>March</td>\n",
       "      <td>Veggie</td>\n",
       "      <td>614</td>\n",
       "    </tr>\n",
       "    <tr>\n",
       "      <th>10</th>\n",
       "      <td>March</td>\n",
       "      <td>Supreme</td>\n",
       "      <td>607</td>\n",
       "    </tr>\n",
       "    <tr>\n",
       "      <th>11</th>\n",
       "      <td>March</td>\n",
       "      <td>Classic</td>\n",
       "      <td>765</td>\n",
       "    </tr>\n",
       "    <tr>\n",
       "      <th>12</th>\n",
       "      <td>April</td>\n",
       "      <td>Chicken</td>\n",
       "      <td>532</td>\n",
       "    </tr>\n",
       "    <tr>\n",
       "      <th>13</th>\n",
       "      <td>April</td>\n",
       "      <td>Veggie</td>\n",
       "      <td>563</td>\n",
       "    </tr>\n",
       "    <tr>\n",
       "      <th>14</th>\n",
       "      <td>April</td>\n",
       "      <td>Supreme</td>\n",
       "      <td>577</td>\n",
       "    </tr>\n",
       "    <tr>\n",
       "      <th>15</th>\n",
       "      <td>April</td>\n",
       "      <td>Classic</td>\n",
       "      <td>718</td>\n",
       "    </tr>\n",
       "    <tr>\n",
       "      <th>16</th>\n",
       "      <td>May</td>\n",
       "      <td>Chicken</td>\n",
       "      <td>551</td>\n",
       "    </tr>\n",
       "    <tr>\n",
       "      <th>17</th>\n",
       "      <td>May</td>\n",
       "      <td>Classic</td>\n",
       "      <td>785</td>\n",
       "    </tr>\n",
       "    <tr>\n",
       "      <th>18</th>\n",
       "      <td>May</td>\n",
       "      <td>Supreme</td>\n",
       "      <td>645</td>\n",
       "    </tr>\n",
       "    <tr>\n",
       "      <th>19</th>\n",
       "      <td>May</td>\n",
       "      <td>Veggie</td>\n",
       "      <td>585</td>\n",
       "    </tr>\n",
       "    <tr>\n",
       "      <th>20</th>\n",
       "      <td>June</td>\n",
       "      <td>Veggie</td>\n",
       "      <td>537</td>\n",
       "    </tr>\n",
       "    <tr>\n",
       "      <th>21</th>\n",
       "      <td>June</td>\n",
       "      <td>Supreme</td>\n",
       "      <td>593</td>\n",
       "    </tr>\n",
       "    <tr>\n",
       "      <th>22</th>\n",
       "      <td>June</td>\n",
       "      <td>Classic</td>\n",
       "      <td>707</td>\n",
       "    </tr>\n",
       "    <tr>\n",
       "      <th>23</th>\n",
       "      <td>June</td>\n",
       "      <td>Chicken</td>\n",
       "      <td>515</td>\n",
       "    </tr>\n",
       "    <tr>\n",
       "      <th>24</th>\n",
       "      <td>July</td>\n",
       "      <td>Veggie</td>\n",
       "      <td>616</td>\n",
       "    </tr>\n",
       "    <tr>\n",
       "      <th>25</th>\n",
       "      <td>July</td>\n",
       "      <td>Supreme</td>\n",
       "      <td>591</td>\n",
       "    </tr>\n",
       "    <tr>\n",
       "      <th>26</th>\n",
       "      <td>July</td>\n",
       "      <td>Classic</td>\n",
       "      <td>796</td>\n",
       "    </tr>\n",
       "    <tr>\n",
       "      <th>27</th>\n",
       "      <td>July</td>\n",
       "      <td>Chicken</td>\n",
       "      <td>552</td>\n",
       "    </tr>\n",
       "    <tr>\n",
       "      <th>28</th>\n",
       "      <td>August</td>\n",
       "      <td>Chicken</td>\n",
       "      <td>534</td>\n",
       "    </tr>\n",
       "    <tr>\n",
       "      <th>29</th>\n",
       "      <td>August</td>\n",
       "      <td>Veggie</td>\n",
       "      <td>574</td>\n",
       "    </tr>\n",
       "    <tr>\n",
       "      <th>30</th>\n",
       "      <td>August</td>\n",
       "      <td>Supreme</td>\n",
       "      <td>585</td>\n",
       "    </tr>\n",
       "    <tr>\n",
       "      <th>31</th>\n",
       "      <td>August</td>\n",
       "      <td>Classic</td>\n",
       "      <td>799</td>\n",
       "    </tr>\n",
       "    <tr>\n",
       "      <th>32</th>\n",
       "      <td>September</td>\n",
       "      <td>Classic</td>\n",
       "      <td>672</td>\n",
       "    </tr>\n",
       "    <tr>\n",
       "      <th>33</th>\n",
       "      <td>September</td>\n",
       "      <td>Chicken</td>\n",
       "      <td>498</td>\n",
       "    </tr>\n",
       "    <tr>\n",
       "      <th>34</th>\n",
       "      <td>September</td>\n",
       "      <td>Supreme</td>\n",
       "      <td>477</td>\n",
       "    </tr>\n",
       "    <tr>\n",
       "      <th>35</th>\n",
       "      <td>September</td>\n",
       "      <td>Veggie</td>\n",
       "      <td>466</td>\n",
       "    </tr>\n",
       "    <tr>\n",
       "      <th>36</th>\n",
       "      <td>October</td>\n",
       "      <td>Chicken</td>\n",
       "      <td>503</td>\n",
       "    </tr>\n",
       "    <tr>\n",
       "      <th>37</th>\n",
       "      <td>October</td>\n",
       "      <td>Classic</td>\n",
       "      <td>760</td>\n",
       "    </tr>\n",
       "    <tr>\n",
       "      <th>38</th>\n",
       "      <td>October</td>\n",
       "      <td>Supreme</td>\n",
       "      <td>624</td>\n",
       "    </tr>\n",
       "    <tr>\n",
       "      <th>39</th>\n",
       "      <td>October</td>\n",
       "      <td>Veggie</td>\n",
       "      <td>539</td>\n",
       "    </tr>\n",
       "    <tr>\n",
       "      <th>40</th>\n",
       "      <td>November</td>\n",
       "      <td>Classic</td>\n",
       "      <td>781</td>\n",
       "    </tr>\n",
       "    <tr>\n",
       "      <th>41</th>\n",
       "      <td>November</td>\n",
       "      <td>Supreme</td>\n",
       "      <td>621</td>\n",
       "    </tr>\n",
       "    <tr>\n",
       "      <th>42</th>\n",
       "      <td>November</td>\n",
       "      <td>Veggie</td>\n",
       "      <td>600</td>\n",
       "    </tr>\n",
       "    <tr>\n",
       "      <th>43</th>\n",
       "      <td>November</td>\n",
       "      <td>Chicken</td>\n",
       "      <td>548</td>\n",
       "    </tr>\n",
       "    <tr>\n",
       "      <th>44</th>\n",
       "      <td>December</td>\n",
       "      <td>Classic</td>\n",
       "      <td>673</td>\n",
       "    </tr>\n",
       "    <tr>\n",
       "      <th>45</th>\n",
       "      <td>December</td>\n",
       "      <td>Supreme</td>\n",
       "      <td>491</td>\n",
       "    </tr>\n",
       "    <tr>\n",
       "      <th>46</th>\n",
       "      <td>December</td>\n",
       "      <td>Veggie</td>\n",
       "      <td>522</td>\n",
       "    </tr>\n",
       "    <tr>\n",
       "      <th>47</th>\n",
       "      <td>December</td>\n",
       "      <td>Chicken</td>\n",
       "      <td>483</td>\n",
       "    </tr>\n",
       "  </tbody>\n",
       "</table>\n",
       "</div>"
      ],
      "text/plain": [
       "        month pizza_category  quantity\n",
       "0     January         Veggie       586\n",
       "1     January        Supreme       606\n",
       "2     January        Classic       747\n",
       "3     January        Chicken       541\n",
       "4    February         Veggie       516\n",
       "5    February        Supreme       512\n",
       "6    February        Classic       659\n",
       "7    February        Chicken       495\n",
       "8       March        Chicken       598\n",
       "9       March         Veggie       614\n",
       "10      March        Supreme       607\n",
       "11      March        Classic       765\n",
       "12      April        Chicken       532\n",
       "13      April         Veggie       563\n",
       "14      April        Supreme       577\n",
       "15      April        Classic       718\n",
       "16        May        Chicken       551\n",
       "17        May        Classic       785\n",
       "18        May        Supreme       645\n",
       "19        May         Veggie       585\n",
       "20       June         Veggie       537\n",
       "21       June        Supreme       593\n",
       "22       June        Classic       707\n",
       "23       June        Chicken       515\n",
       "24       July         Veggie       616\n",
       "25       July        Supreme       591\n",
       "26       July        Classic       796\n",
       "27       July        Chicken       552\n",
       "28     August        Chicken       534\n",
       "29     August         Veggie       574\n",
       "30     August        Supreme       585\n",
       "31     August        Classic       799\n",
       "32  September        Classic       672\n",
       "33  September        Chicken       498\n",
       "34  September        Supreme       477\n",
       "35  September         Veggie       466\n",
       "36    October        Chicken       503\n",
       "37    October        Classic       760\n",
       "38    October        Supreme       624\n",
       "39    October         Veggie       539\n",
       "40   November        Classic       781\n",
       "41   November        Supreme       621\n",
       "42   November         Veggie       600\n",
       "43   November        Chicken       548\n",
       "44   December        Classic       673\n",
       "45   December        Supreme       491\n",
       "46   December         Veggie       522\n",
       "47   December        Chicken       483"
      ]
     },
     "execution_count": 35,
     "metadata": {},
     "output_type": "execute_result"
    }
   ],
   "source": [
    "# convert column 'month' to categorical data type with the specified order\n",
    "quantity_sold['month'] = pd.Categorical(quantity_sold['month'], categories=new_order, ordered=True)\n",
    "\n",
    "# sort based on the new categorical order of months\n",
    "quantity_sold = quantity_sold.sort_values(by='month')\n",
    "\n",
    "# using .reset_index() in order to read the column 'month'\n",
    "quantity_sold = quantity_sold.reset_index(drop=True)\n",
    "\n",
    "# show the reordered dataframe\n",
    "quantity_sold"
   ]
  },
  {
   "cell_type": "code",
   "execution_count": null,
   "metadata": {},
   "outputs": [
    {
     "data": {
      "image/png": "[encoded data removed]",
      "text/plain": [
       "<Figure size 640x480 with 1 Axes>"
      ]
     },
     "metadata": {},
     "output_type": "display_data"
    }
   ],
   "source": [
    "# data visualization\n",
    "sns.barplot(data=quantity_sold, x='month', y='quantity', hue='pizza_category')\n",
    "plt.xticks(rotation=45)\n",
    "plt.legend(bbox_to_anchor=(1,1))\n",
    "plt.show()"
   ]
  },
  {
   "cell_type": "markdown",
   "metadata": {},
   "source": [
    "To visualize the data, using a bar chart visualization is appropriate because the objective is to compare the number of pizzas sold based on pizza category each month.\n",
    "\n",
    "Based on the image above, the insights obtained are as follows:\n",
    "- In line with previous insight, the classic category is the pizza category that is preferred by customers, where sales performance is always the highest every month.\n",
    "- There is a pattern of customer preferences in the pizza category, with the order of pizza categories are Classic, Supreme, Veggie and Chicken.\n",
    "- February, March, and July, the order of pizza categories patterns are classic, veggie, supreme, and chicken.\n",
    "- August has a different pattern from other months, with the order of pizza categories being classic, chicken, supreme, veggie."
   ]
  },
  {
   "cell_type": "markdown",
   "metadata": {},
   "source": [
    "#### Next, I also want to know `which pizza is the most sold (best seller) pizza from each pizza category`."
   ]
  },
  {
   "cell_type": "code",
   "execution_count": null,
   "metadata": {},
   "outputs": [
    {
     "data": {
      "text/html": [
       "<div>\n",
       "<style scoped>\n",
       "    .dataframe tbody tr th:only-of-type {\n",
       "        vertical-align: middle;\n",
       "    }\n",
       "\n",
       "    .dataframe tbody tr th {\n",
       "        vertical-align: top;\n",
       "    }\n",
       "\n",
       "    .dataframe thead th {\n",
       "        text-align: right;\n",
       "    }\n",
       "</style>\n",
       "<table border=\"1\" class=\"dataframe\">\n",
       "  <thead>\n",
       "    <tr style=\"text-align: right;\">\n",
       "      <th></th>\n",
       "      <th>pizza_category</th>\n",
       "      <th>pizza_name</th>\n",
       "      <th>quantity</th>\n",
       "    </tr>\n",
       "  </thead>\n",
       "  <tbody>\n",
       "    <tr>\n",
       "      <th>0</th>\n",
       "      <td>Chicken</td>\n",
       "      <td>The Barbecue Chicken Pizza</td>\n",
       "      <td>1381</td>\n",
       "    </tr>\n",
       "    <tr>\n",
       "      <th>1</th>\n",
       "      <td>Chicken</td>\n",
       "      <td>The Thai Chicken Pizza</td>\n",
       "      <td>1378</td>\n",
       "    </tr>\n",
       "    <tr>\n",
       "      <th>2</th>\n",
       "      <td>Chicken</td>\n",
       "      <td>The California Chicken Pizza</td>\n",
       "      <td>1341</td>\n",
       "    </tr>\n",
       "    <tr>\n",
       "      <th>3</th>\n",
       "      <td>Classic</td>\n",
       "      <td>The Classic Deluxe Pizza</td>\n",
       "      <td>1491</td>\n",
       "    </tr>\n",
       "    <tr>\n",
       "      <th>4</th>\n",
       "      <td>Classic</td>\n",
       "      <td>The Pepperoni Pizza</td>\n",
       "      <td>1433</td>\n",
       "    </tr>\n",
       "    <tr>\n",
       "      <th>5</th>\n",
       "      <td>Classic</td>\n",
       "      <td>The Hawaiian Pizza</td>\n",
       "      <td>1395</td>\n",
       "    </tr>\n",
       "    <tr>\n",
       "      <th>6</th>\n",
       "      <td>Supreme</td>\n",
       "      <td>The Sicilian Pizza</td>\n",
       "      <td>1147</td>\n",
       "    </tr>\n",
       "    <tr>\n",
       "      <th>7</th>\n",
       "      <td>Supreme</td>\n",
       "      <td>The Spicy Italian Pizza</td>\n",
       "      <td>1110</td>\n",
       "    </tr>\n",
       "    <tr>\n",
       "      <th>8</th>\n",
       "      <td>Supreme</td>\n",
       "      <td>The Italian Supreme Pizza</td>\n",
       "      <td>1044</td>\n",
       "    </tr>\n",
       "    <tr>\n",
       "      <th>9</th>\n",
       "      <td>Veggie</td>\n",
       "      <td>The Four Cheese Pizza</td>\n",
       "      <td>1072</td>\n",
       "    </tr>\n",
       "    <tr>\n",
       "      <th>10</th>\n",
       "      <td>Veggie</td>\n",
       "      <td>The Vegetables + Vegetables Pizza</td>\n",
       "      <td>917</td>\n",
       "    </tr>\n",
       "    <tr>\n",
       "      <th>11</th>\n",
       "      <td>Veggie</td>\n",
       "      <td>The Mexicana Pizza</td>\n",
       "      <td>848</td>\n",
       "    </tr>\n",
       "  </tbody>\n",
       "</table>\n",
       "</div>"
      ],
      "text/plain": [
       "   pizza_category                         pizza_name  quantity\n",
       "0         Chicken         The Barbecue Chicken Pizza      1381\n",
       "1         Chicken             The Thai Chicken Pizza      1378\n",
       "2         Chicken       The California Chicken Pizza      1341\n",
       "3         Classic           The Classic Deluxe Pizza      1491\n",
       "4         Classic                The Pepperoni Pizza      1433\n",
       "5         Classic                 The Hawaiian Pizza      1395\n",
       "6         Supreme                 The Sicilian Pizza      1147\n",
       "7         Supreme            The Spicy Italian Pizza      1110\n",
       "8         Supreme          The Italian Supreme Pizza      1044\n",
       "9          Veggie              The Four Cheese Pizza      1072\n",
       "10         Veggie  The Vegetables + Vegetables Pizza       917\n",
       "11         Veggie                 The Mexicana Pizza       848"
      ]
     },
     "execution_count": 37,
     "metadata": {},
     "output_type": "execute_result"
    }
   ],
   "source": [
    "# grouping pizza name based on pizza category\n",
    "best_seller_pizza = df.groupby(['pizza_category','pizza_name'])[['quantity']].sum()\n",
    "\n",
    "# get the top 3 best-selling pizzas from each category\n",
    "best_top_3 = best_seller_pizza.groupby(level=0)['quantity'].nlargest(3).reset_index(level=0, drop=True)\n",
    "\n",
    "# show dataframe\n",
    "best_top_3 = pd.DataFrame(best_top_3).reset_index()\n",
    "best_top_3"
   ]
  },
  {
   "cell_type": "code",
   "execution_count": null,
   "metadata": {},
   "outputs": [
    {
     "data": {
      "image/png": "[encoded data removed]",
      "text/plain": [
       "<Figure size 1000x800 with 1 Axes>"
      ]
     },
     "metadata": {},
     "output_type": "display_data"
    }
   ],
   "source": [
    "# data visualization\n",
    "fig,ax1 = plt.subplots(figsize=(10,8))\n",
    "\n",
    "sns.barplot(data=best_top_3, x='pizza_category', y='quantity', hue='pizza_name')\n",
    "plt.xticks(rotation=45)\n",
    "plt.legend(bbox_to_anchor=(1,1))\n",
    "plt.show()"
   ]
  },
  {
   "cell_type": "markdown",
   "metadata": {},
   "source": [
    "To visualize the data, using a bar chart visualization is appropriate because the objective is to compare the top 3 best selling pizza name from each pizza category.\n",
    "\n",
    "Based on the image above, overall, `all top 3 best selling pizza sales comes from Classic category`, namely The Barbecue Chicken Pizza, The Thai Chicken Pizza, and The California Chicken Pizza."
   ]
  },
  {
   "cell_type": "markdown",
   "metadata": {},
   "source": [
    "#### Furthermore, I want to know `is there any correlation in column pizza_id, order_id, quantity, unit_price, and total_price` to find pattern on each column mentioned and make a comparasions."
   ]
  },
  {
   "cell_type": "code",
   "execution_count": null,
   "metadata": {},
   "outputs": [
    {
     "data": {
      "text/html": [
       "<div>\n",
       "<style scoped>\n",
       "    .dataframe tbody tr th:only-of-type {\n",
       "        vertical-align: middle;\n",
       "    }\n",
       "\n",
       "    .dataframe tbody tr th {\n",
       "        vertical-align: top;\n",
       "    }\n",
       "\n",
       "    .dataframe thead th {\n",
       "        text-align: right;\n",
       "    }\n",
       "</style>\n",
       "<table border=\"1\" class=\"dataframe\">\n",
       "  <thead>\n",
       "    <tr style=\"text-align: right;\">\n",
       "      <th></th>\n",
       "      <th>pizza_id</th>\n",
       "      <th>order_id</th>\n",
       "      <th>quantity</th>\n",
       "      <th>unit_price</th>\n",
       "      <th>total_price</th>\n",
       "    </tr>\n",
       "  </thead>\n",
       "  <tbody>\n",
       "    <tr>\n",
       "      <th>0</th>\n",
       "      <td>1651</td>\n",
       "      <td>737</td>\n",
       "      <td>1</td>\n",
       "      <td>16.75</td>\n",
       "      <td>16.75</td>\n",
       "    </tr>\n",
       "    <tr>\n",
       "      <th>1</th>\n",
       "      <td>1652</td>\n",
       "      <td>737</td>\n",
       "      <td>1</td>\n",
       "      <td>16.75</td>\n",
       "      <td>16.75</td>\n",
       "    </tr>\n",
       "    <tr>\n",
       "      <th>2</th>\n",
       "      <td>1653</td>\n",
       "      <td>738</td>\n",
       "      <td>1</td>\n",
       "      <td>16.75</td>\n",
       "      <td>16.75</td>\n",
       "    </tr>\n",
       "    <tr>\n",
       "      <th>3</th>\n",
       "      <td>1654</td>\n",
       "      <td>739</td>\n",
       "      <td>1</td>\n",
       "      <td>12.00</td>\n",
       "      <td>12.00</td>\n",
       "    </tr>\n",
       "    <tr>\n",
       "      <th>4</th>\n",
       "      <td>1655</td>\n",
       "      <td>740</td>\n",
       "      <td>1</td>\n",
       "      <td>16.75</td>\n",
       "      <td>16.75</td>\n",
       "    </tr>\n",
       "    <tr>\n",
       "      <th>...</th>\n",
       "      <td>...</td>\n",
       "      <td>...</td>\n",
       "      <td>...</td>\n",
       "      <td>...</td>\n",
       "      <td>...</td>\n",
       "    </tr>\n",
       "    <tr>\n",
       "      <th>28653</th>\n",
       "      <td>48616</td>\n",
       "      <td>21348</td>\n",
       "      <td>1</td>\n",
       "      <td>16.75</td>\n",
       "      <td>16.75</td>\n",
       "    </tr>\n",
       "    <tr>\n",
       "      <th>28654</th>\n",
       "      <td>48617</td>\n",
       "      <td>21348</td>\n",
       "      <td>1</td>\n",
       "      <td>17.95</td>\n",
       "      <td>17.95</td>\n",
       "    </tr>\n",
       "    <tr>\n",
       "      <th>28655</th>\n",
       "      <td>48618</td>\n",
       "      <td>21348</td>\n",
       "      <td>1</td>\n",
       "      <td>12.00</td>\n",
       "      <td>12.00</td>\n",
       "    </tr>\n",
       "    <tr>\n",
       "      <th>28656</th>\n",
       "      <td>48619</td>\n",
       "      <td>21349</td>\n",
       "      <td>1</td>\n",
       "      <td>20.25</td>\n",
       "      <td>20.25</td>\n",
       "    </tr>\n",
       "    <tr>\n",
       "      <th>28657</th>\n",
       "      <td>48620</td>\n",
       "      <td>21350</td>\n",
       "      <td>1</td>\n",
       "      <td>12.75</td>\n",
       "      <td>12.75</td>\n",
       "    </tr>\n",
       "  </tbody>\n",
       "</table>\n",
       "<p>28658 rows × 5 columns</p>\n",
       "</div>"
      ],
      "text/plain": [
       "       pizza_id  order_id  quantity  unit_price  total_price\n",
       "0          1651       737         1       16.75        16.75\n",
       "1          1652       737         1       16.75        16.75\n",
       "2          1653       738         1       16.75        16.75\n",
       "3          1654       739         1       12.00        12.00\n",
       "4          1655       740         1       16.75        16.75\n",
       "...         ...       ...       ...         ...          ...\n",
       "28653     48616     21348         1       16.75        16.75\n",
       "28654     48617     21348         1       17.95        17.95\n",
       "28655     48618     21348         1       12.00        12.00\n",
       "28656     48619     21349         1       20.25        20.25\n",
       "28657     48620     21350         1       12.75        12.75\n",
       "\n",
       "[28658 rows x 5 columns]"
      ]
     },
     "execution_count": 39,
     "metadata": {},
     "output_type": "execute_result"
    }
   ],
   "source": [
    "# create a table that contains numeric selection columns only\n",
    "df_corr = df[['pizza_id','order_id','quantity','unit_price','total_price']]\n",
    "df_corr"
   ]
  },
  {
   "cell_type": "code",
   "execution_count": null,
   "metadata": {},
   "outputs": [
    {
     "data": {
      "text/html": [
       "<div>\n",
       "<style scoped>\n",
       "    .dataframe tbody tr th:only-of-type {\n",
       "        vertical-align: middle;\n",
       "    }\n",
       "\n",
       "    .dataframe tbody tr th {\n",
       "        vertical-align: top;\n",
       "    }\n",
       "\n",
       "    .dataframe thead th {\n",
       "        text-align: right;\n",
       "    }\n",
       "</style>\n",
       "<table border=\"1\" class=\"dataframe\">\n",
       "  <thead>\n",
       "    <tr style=\"text-align: right;\">\n",
       "      <th></th>\n",
       "      <th>pizza_id</th>\n",
       "      <th>order_id</th>\n",
       "      <th>quantity</th>\n",
       "      <th>unit_price</th>\n",
       "      <th>total_price</th>\n",
       "    </tr>\n",
       "  </thead>\n",
       "  <tbody>\n",
       "    <tr>\n",
       "      <th>pizza_id</th>\n",
       "      <td>1.000000</td>\n",
       "      <td>0.999990</td>\n",
       "      <td>0.009836</td>\n",
       "      <td>0.002476</td>\n",
       "      <td>0.005225</td>\n",
       "    </tr>\n",
       "    <tr>\n",
       "      <th>order_id</th>\n",
       "      <td>0.999990</td>\n",
       "      <td>1.000000</td>\n",
       "      <td>0.009840</td>\n",
       "      <td>0.002425</td>\n",
       "      <td>0.005176</td>\n",
       "    </tr>\n",
       "    <tr>\n",
       "      <th>quantity</th>\n",
       "      <td>0.009836</td>\n",
       "      <td>0.009840</td>\n",
       "      <td>1.000000</td>\n",
       "      <td>-0.087348</td>\n",
       "      <td>0.202811</td>\n",
       "    </tr>\n",
       "    <tr>\n",
       "      <th>unit_price</th>\n",
       "      <td>0.002476</td>\n",
       "      <td>0.002425</td>\n",
       "      <td>-0.087348</td>\n",
       "      <td>1.000000</td>\n",
       "      <td>0.957072</td>\n",
       "    </tr>\n",
       "    <tr>\n",
       "      <th>total_price</th>\n",
       "      <td>0.005225</td>\n",
       "      <td>0.005176</td>\n",
       "      <td>0.202811</td>\n",
       "      <td>0.957072</td>\n",
       "      <td>1.000000</td>\n",
       "    </tr>\n",
       "  </tbody>\n",
       "</table>\n",
       "</div>"
      ],
      "text/plain": [
       "             pizza_id  order_id  quantity  unit_price  total_price\n",
       "pizza_id     1.000000  0.999990  0.009836    0.002476     0.005225\n",
       "order_id     0.999990  1.000000  0.009840    0.002425     0.005176\n",
       "quantity     0.009836  0.009840  1.000000   -0.087348     0.202811\n",
       "unit_price   0.002476  0.002425 -0.087348    1.000000     0.957072\n",
       "total_price  0.005225  0.005176  0.202811    0.957072     1.000000"
      ]
     },
     "execution_count": 40,
     "metadata": {},
     "output_type": "execute_result"
    }
   ],
   "source": [
    "# checking correlation with .corr() function\n",
    "df_corr.corr()"
   ]
  },
  {
   "cell_type": "code",
   "execution_count": null,
   "metadata": {},
   "outputs": [
    {
     "data": {
      "image/png": "[encoded data removed]",
      "text/plain": [
       "<Figure size 1000x800 with 2 Axes>"
      ]
     },
     "metadata": {},
     "output_type": "display_data"
    }
   ],
   "source": [
    "# check the correlation using a heatmap\n",
    "fig,ax1 = plt.subplots(figsize=(10,8))\n",
    "\n",
    "sns.heatmap(df_corr.corr(),annot=True)\n",
    "plt.title('Correlation of Sales Revenue in 2015')\n",
    "plt.show()"
   ]
  },
  {
   "cell_type": "markdown",
   "metadata": {},
   "source": [
    "The following are references for determining the level of correlation, where the greater the correlation the darker the color will be:\n",
    "- Correlation = 0 meaning there is no correlation.\n",
    "- Correlation 0.20-0.39 is considered weak.\n",
    "- Correlation of 0.40-0.59 is considered moderate.\n",
    "- Correlation of 0.60-0.79 is considered strong.\n",
    "- Correlation of 0.80-1 is considered very strong.\n",
    "If the correlation is positive, it means that the relationship is directly proportional, whereas if it is negative it will be inversely proportional.\n",
    "\n",
    "Based on the correlation results, the insights obtained are as follows:\n",
    "- unit_price and total price have a very strong positive correlation, where changes in the price per item will affect overall revenue.\n",
    "- total_price and quantity have a weak positive correlation, where if there is an increase in the number of goods sold it will not have a significant effect on revenue.\n",
    "- unit_price and quantity have a very weak negative correlation, where price changes do not have a significant effect on the number of products sold."
   ]
  },
  {
   "cell_type": "markdown",
   "metadata": {},
   "source": [
    "#### Lastly, hypothesis test will be carry out to know whether the number of pizza sales during the day (lunchtime) is different from sales at night (dinnertime). The purpose of this hypothesis test is to gain insight that will help determine business planning strategy decisions."
   ]
  },
  {
   "cell_type": "markdown",
   "metadata": {},
   "source": [
    "To answer this question, hypothesis test will be carry out with the following definition of hypothesis:\n",
    "- 𝐻0 : The number of pizza sales during the day (lunchtime) ==  night (dinnertime)\n",
    "- 𝐻1 : The number of pizza sales during the day (lunchtime) !=  night (dinnertime)\n",
    "\n",
    "With a confidence level of 95% (critical value=0.05), then to test the truth:\n",
    "- If the p-value < critical value then the result is reject H0\n",
    "- If p-value > critical value then the result fails to reject H0\n",
    "\n",
    "The type of hypothesis used is 'two sample independent test' by comparing the 'order_time' samples at lunchtime and dinnertime to find out whether there is a difference or not. Two sample test because you want to look at two different variables, namely lunchtime and dinnertime, and independent test because the lunchtime value is not affected by the dinnertime value."
   ]
  },
  {
   "cell_type": "code",
   "execution_count": null,
   "metadata": {},
   "outputs": [],
   "source": [
    "# perform hour extraction on column 'order_time'\n",
    "df['order_hour'] = df['order_time'].dt.hour"
   ]
  },
  {
   "cell_type": "code",
   "execution_count": null,
   "metadata": {},
   "outputs": [],
   "source": [
    "# defining lunchtime and dinnertime hours\n",
    "lists = []\n",
    "for i in df.order_hour:\n",
    "  if i in (12,13,14):\n",
    "    lists.append('lunch_time')\n",
    "  elif i in (18,19,20):\n",
    "    lists.append('dinner_time')\n",
    "  else:\n",
    "    lists.append(\"Order placed not during peak hours\")\n",
    "\n",
    "# create new column\n",
    "df['order_placed'] = lists"
   ]
  },
  {
   "cell_type": "code",
   "execution_count": null,
   "metadata": {},
   "outputs": [],
   "source": [
    "# perform search selection by filtering lunchtime and dinnertime\n",
    "lunchtime = df[df['order_placed'].astype(str).str.startswith(('lunch_time'))][['pizza_name','quantity']].groupby(['pizza_name']).sum()\n",
    "dinnertime = df[df['order_placed'].astype(str).str.startswith(('dinner_time'))][['pizza_name','quantity']].groupby(['pizza_name']).sum()"
   ]
  },
  {
   "cell_type": "code",
   "execution_count": null,
   "metadata": {},
   "outputs": [
    {
     "data": {
      "text/plain": [
       "pizza_name\n",
       "The Barbecue Chicken Pizza      424\n",
       "The Big Meat Pizza              386\n",
       "The Brie Carre Pizza             94\n",
       "The Calabrese Pizza             171\n",
       "The California Chicken Pizza    425\n",
       "Name: quantity, dtype: int64"
      ]
     },
     "execution_count": 46,
     "metadata": {},
     "output_type": "execute_result"
    }
   ],
   "source": [
    "# checking lunchtime data\n",
    "lunchtime['quantity'].head()"
   ]
  },
  {
   "cell_type": "code",
   "execution_count": null,
   "metadata": {},
   "outputs": [
    {
     "data": {
      "text/plain": [
       "pizza_name\n",
       "The Barbecue Chicken Pizza      376\n",
       "The Big Meat Pizza              312\n",
       "The Brie Carre Pizza             72\n",
       "The Calabrese Pizza             157\n",
       "The California Chicken Pizza    401\n",
       "Name: quantity, dtype: int64"
      ]
     },
     "execution_count": 47,
     "metadata": {},
     "output_type": "execute_result"
    }
   ],
   "source": [
    "# checking dinnertime data\n",
    "dinnertime['quantity'].head()"
   ]
  },
  {
   "cell_type": "code",
   "execution_count": null,
   "metadata": {},
   "outputs": [
    {
     "name": "stdout",
     "output_type": "stream",
     "text": [
      "P-value: 0.05610068959535218\n",
      "t-statistics: 1.9467344967874736\n"
     ]
    }
   ],
   "source": [
    "# function to compare mean from two independent groups, whether there is a significant difference or not\n",
    "t_stat,p_val = stats.ttest_ind(lunchtime['quantity'],dinnertime['quantity'])\n",
    "print('P-value:',p_val)\n",
    "print('t-statistics:',t_stat)"
   ]
  },
  {
   "cell_type": "markdown",
   "metadata": {},
   "source": [
    "Based on the results of the analysis of the hypothesis test calculation above, `p-value > critical value`, with the result that the p-value is 0.56 and the critical value is 0.05. From the results of this hypothesis, it can be concluded that we `fail to reject H0` with a 95% probability that `the number of pizza sales during the day (lunchtime) and at night (dinnertime) is not significantly difference`, where the difference in pizza orders at lunchtime and dinner is only around 0.056."
   ]
  },
  {
   "cell_type": "markdown",
   "metadata": {},
   "source": [
    "## Conclusion"
   ]
  },
  {
   "cell_type": "markdown",
   "metadata": {},
   "source": [
    "- The highest revenue occurred in March whereas lowest revenue occurred in September, with the value of revenue is 42,818 dollars and 35,161.15 dollars respectively.\n",
    "- The difference in sales revenue on the four pizza catefories is not significant.\n",
    "- Kategori classic menjadi kategori pizza favorit yang disukai oleh customer, dengan top 3 best selling pizza comes from Classic category.\n",
    "- The Classic category become the most favorite pizza category that customers like with the top 3 best-selling pizzas coming from the Classic category, namely The Barbecue Chicken Pizza, The Thai Chicken Pizza, and The California Chicken Pizza.\n",
    "- From the correlation results between unit_price and quantity, we can conclude that customers are not sensitive to price and are loyal. This shows that there are other factors that influence sales, such as customer preferences.\n",
    "- With confidence level of 95%, the number of pizza sales during the day (lunchtime) and at night (dinnertime) is not significantly difference.\n",
    "\n",
    "In conclusion, it is necessary to `understand customer preferences` to be able to increase revenue consistently in the next six months. Thus, because `customers are not sensitive to price`, things that must be considered to increase revenue are always be consistent that can be achieve by `maintaining the quality of food that suits customer preferences like taste, freshness, selection of ingredients, and so on` which lead to customers will remain loyal."
   ]
  },
  {
   "cell_type": "markdown",
   "metadata": {},
   "source": [
    "<!-- catatan untuk no 2\n",
    "liat dari distribusi pendapatan \n",
    "terjual 100 @10k = 1jt\n",
    "dari data itu liat distribusi gimana, anggap normal\n",
    "min pendapatan&maks pendapatan dengan confidence level 95%\n",
    "kemungkinan pendapatan jika menjual seblak adalah ??-??\n",
    "dia melihat data manaaja yang masuk ke distribusi\n",
    "makin kecil CI berarti makin , tapi kemungkinannya kecil\n",
    "kalo CI 95% critical value 0,05\n",
    "interval yang bisa kita tebak\n",
    "pvalue > 0 ditolak\n",
    "CL seberapa percaya kita makin tinggi makin susah pembuktiannya\n",
    "CI dari data kemungkinan nilai rata2 yang sama dengan populasi berapa. nilai yang jatoh do anhka brpp\n",
    "\n",
    "p-value pembuktian apakah nilai valid atau tidak\n",
    "\n",
    "itungnya berdasarkan median -> colab code 38 -->"
   ]
  },
  {
   "cell_type": "markdown",
   "metadata": {},
   "source": [
    "<!-- handling outlier dulu baru uji korelasi?? -->"
   ]
  }
 ],
 "metadata": {
  "kernelspec": {
   "display_name": "base",
   "language": "python",
   "name": "python3"
  },
  "language_info": {
   "codemirror_mode": {
    "name": "ipython",
    "version": 3
   },
   "file_extension": ".py",
   "mimetype": "text/x-python",
   "name": "python",
   "nbconvert_exporter": "python",
   "pygments_lexer": "ipython3",
   "version": "3.9.6"
  }
 },
 "nbformat": 4,
 "nbformat_minor": 2
}
